{
 "cells": [
  {
   "cell_type": "markdown",
   "metadata": {},
   "source": [
    "# PyBer\n",
    "\n",
    "### Dependencies and data"
   ]
  },
  {
   "cell_type": "code",
   "execution_count": 108,
   "metadata": {
    "tags": []
   },
   "outputs": [],
   "source": [
    "# Dependencies\n",
    "import os\n",
    "import scipy as sp\n",
    "import numpy as np\n",
    "import pandas as pd\n",
    "import matplotlib as mpl\n",
    "import matplotlib.pyplot as plt\n",
    "\n",
    "%matplotlib inline"
   ]
  },
  {
   "cell_type": "code",
   "execution_count": 109,
   "metadata": {},
   "outputs": [],
   "source": [
    "# Plot settings\n",
    "mpl.style.use('fivethirtyeight')\n",
    "mpl.rcParams['font.size'] = 12\n",
    "mpl.rcParams['savefig.bbox'] = 'tight'"
   ]
  },
  {
   "cell_type": "code",
   "execution_count": 110,
   "metadata": {
    "tags": []
   },
   "outputs": [
    {
     "data": {
      "text/html": [
       "<div>\n",
       "<style scoped>\n",
       "    .dataframe tbody tr th:only-of-type {\n",
       "        vertical-align: middle;\n",
       "    }\n",
       "\n",
       "    .dataframe tbody tr th {\n",
       "        vertical-align: top;\n",
       "    }\n",
       "\n",
       "    .dataframe thead th {\n",
       "        text-align: right;\n",
       "    }\n",
       "</style>\n",
       "<table border=\"1\" class=\"dataframe\">\n",
       "  <thead>\n",
       "    <tr style=\"text-align: right;\">\n",
       "      <th></th>\n",
       "      <th>city</th>\n",
       "      <th>driver_count</th>\n",
       "      <th>type</th>\n",
       "    </tr>\n",
       "  </thead>\n",
       "  <tbody>\n",
       "    <tr>\n",
       "      <th>0</th>\n",
       "      <td>Richardfort</td>\n",
       "      <td>38</td>\n",
       "      <td>Urban</td>\n",
       "    </tr>\n",
       "    <tr>\n",
       "      <th>1</th>\n",
       "      <td>Williamsstad</td>\n",
       "      <td>59</td>\n",
       "      <td>Urban</td>\n",
       "    </tr>\n",
       "    <tr>\n",
       "      <th>2</th>\n",
       "      <td>Port Angela</td>\n",
       "      <td>67</td>\n",
       "      <td>Urban</td>\n",
       "    </tr>\n",
       "  </tbody>\n",
       "</table>\n",
       "</div>"
      ],
      "text/plain": [
       "           city  driver_count   type\n",
       "0   Richardfort            38  Urban\n",
       "1  Williamsstad            59  Urban\n",
       "2   Port Angela            67  Urban"
      ]
     },
     "execution_count": 110,
     "metadata": {},
     "output_type": "execute_result"
    }
   ],
   "source": [
    "# City data\n",
    "city_path = os.path.join('data', 'city_data.csv') # city data path\n",
    "city_df = pd.read_csv(city_path)\n",
    "city_df.head(3)"
   ]
  },
  {
   "cell_type": "code",
   "execution_count": 111,
   "metadata": {
    "tags": []
   },
   "outputs": [
    {
     "data": {
      "text/html": [
       "<div>\n",
       "<style scoped>\n",
       "    .dataframe tbody tr th:only-of-type {\n",
       "        vertical-align: middle;\n",
       "    }\n",
       "\n",
       "    .dataframe tbody tr th {\n",
       "        vertical-align: top;\n",
       "    }\n",
       "\n",
       "    .dataframe thead th {\n",
       "        text-align: right;\n",
       "    }\n",
       "</style>\n",
       "<table border=\"1\" class=\"dataframe\">\n",
       "  <thead>\n",
       "    <tr style=\"text-align: right;\">\n",
       "      <th></th>\n",
       "      <th>city</th>\n",
       "      <th>date</th>\n",
       "      <th>fare</th>\n",
       "      <th>ride_id</th>\n",
       "    </tr>\n",
       "  </thead>\n",
       "  <tbody>\n",
       "    <tr>\n",
       "      <th>0</th>\n",
       "      <td>Lake Jonathanshire</td>\n",
       "      <td>2019-01-14 10:14:22</td>\n",
       "      <td>13.83</td>\n",
       "      <td>5739410935873</td>\n",
       "    </tr>\n",
       "    <tr>\n",
       "      <th>1</th>\n",
       "      <td>South Michelleport</td>\n",
       "      <td>2019-03-04 18:24:09</td>\n",
       "      <td>30.24</td>\n",
       "      <td>2343912425577</td>\n",
       "    </tr>\n",
       "    <tr>\n",
       "      <th>2</th>\n",
       "      <td>Port Samanthamouth</td>\n",
       "      <td>2019-02-24 04:29:00</td>\n",
       "      <td>33.44</td>\n",
       "      <td>2005065760003</td>\n",
       "    </tr>\n",
       "  </tbody>\n",
       "</table>\n",
       "</div>"
      ],
      "text/plain": [
       "                 city                date   fare        ride_id\n",
       "0  Lake Jonathanshire 2019-01-14 10:14:22  13.83  5739410935873\n",
       "1  South Michelleport 2019-03-04 18:24:09  30.24  2343912425577\n",
       "2  Port Samanthamouth 2019-02-24 04:29:00  33.44  2005065760003"
      ]
     },
     "execution_count": 111,
     "metadata": {},
     "output_type": "execute_result"
    }
   ],
   "source": [
    "# Ride data\n",
    "ride_path = os.path.join('data', 'ride_data.csv') # ride data path\n",
    "ride_df = pd.read_csv(ride_path, parse_dates=['date'])\n",
    "ride_df.head(3)"
   ]
  },
  {
   "cell_type": "markdown",
   "metadata": {},
   "source": [
    "### Merge data"
   ]
  },
  {
   "cell_type": "code",
   "execution_count": 112,
   "metadata": {
    "tags": []
   },
   "outputs": [
    {
     "name": "stdout",
     "output_type": "stream",
     "text": [
      "city            0\n",
      "driver_count    0\n",
      "type            0\n",
      "dtype: int64\n"
     ]
    },
    {
     "data": {
      "text/plain": [
       "city       0\n",
       "date       0\n",
       "fare       0\n",
       "ride_id    0\n",
       "dtype: int64"
      ]
     },
     "execution_count": 112,
     "metadata": {},
     "output_type": "execute_result"
    }
   ],
   "source": [
    "# Check for missing vals in both dfs\n",
    "print(city_df.isnull().sum())\n",
    "ride_df.isnull().sum()"
   ]
  },
  {
   "cell_type": "code",
   "execution_count": 113,
   "metadata": {
    "tags": []
   },
   "outputs": [
    {
     "name": "stdout",
     "output_type": "stream",
     "text": [
      "city            120\n",
      "driver_count     52\n",
      "type              3\n",
      "dtype: int64\n"
     ]
    },
    {
     "data": {
      "text/plain": [
       "city        120\n",
       "date       2375\n",
       "fare       1841\n",
       "ride_id    2375\n",
       "dtype: int64"
      ]
     },
     "execution_count": 113,
     "metadata": {},
     "output_type": "execute_result"
    }
   ],
   "source": [
    "# Check unique vals for each col\n",
    "print(city_df.nunique())\n",
    "ride_df.nunique()"
   ]
  },
  {
   "cell_type": "code",
   "execution_count": 114,
   "metadata": {},
   "outputs": [
    {
     "name": "stdout",
     "output_type": "stream",
     "text": [
      "<class 'pandas.core.frame.DataFrame'>\n",
      "Int64Index: 2375 entries, 0 to 2374\n",
      "Data columns (total 6 columns):\n",
      " #   Column        Non-Null Count  Dtype         \n",
      "---  ------        --------------  -----         \n",
      " 0   city          2375 non-null   object        \n",
      " 1   date          2375 non-null   datetime64[ns]\n",
      " 2   fare          2375 non-null   float64       \n",
      " 3   ride_id       2375 non-null   int64         \n",
      " 4   driver_count  2375 non-null   int64         \n",
      " 5   type          2375 non-null   object        \n",
      "dtypes: datetime64[ns](1), float64(1), int64(2), object(2)\n",
      "memory usage: 129.9+ KB\n"
     ]
    }
   ],
   "source": [
    "# Merge data\n",
    "df = pd.merge(ride_df, city_df, on='city', how='left')\n",
    "df.info()"
   ]
  },
  {
   "cell_type": "code",
   "execution_count": 115,
   "metadata": {},
   "outputs": [
    {
     "data": {
      "text/html": [
       "<div>\n",
       "<style scoped>\n",
       "    .dataframe tbody tr th:only-of-type {\n",
       "        vertical-align: middle;\n",
       "    }\n",
       "\n",
       "    .dataframe tbody tr th {\n",
       "        vertical-align: top;\n",
       "    }\n",
       "\n",
       "    .dataframe thead th {\n",
       "        text-align: right;\n",
       "    }\n",
       "</style>\n",
       "<table border=\"1\" class=\"dataframe\">\n",
       "  <thead>\n",
       "    <tr style=\"text-align: right;\">\n",
       "      <th></th>\n",
       "      <th>city</th>\n",
       "      <th>date</th>\n",
       "      <th>fare</th>\n",
       "      <th>ride_id</th>\n",
       "      <th>driver_count</th>\n",
       "      <th>type</th>\n",
       "    </tr>\n",
       "  </thead>\n",
       "  <tbody>\n",
       "    <tr>\n",
       "      <th>0</th>\n",
       "      <td>Lake Jonathanshire</td>\n",
       "      <td>2019-01-14 10:14:22</td>\n",
       "      <td>13.83</td>\n",
       "      <td>5739410935873</td>\n",
       "      <td>5</td>\n",
       "      <td>Urban</td>\n",
       "    </tr>\n",
       "    <tr>\n",
       "      <th>1</th>\n",
       "      <td>South Michelleport</td>\n",
       "      <td>2019-03-04 18:24:09</td>\n",
       "      <td>30.24</td>\n",
       "      <td>2343912425577</td>\n",
       "      <td>72</td>\n",
       "      <td>Urban</td>\n",
       "    </tr>\n",
       "    <tr>\n",
       "      <th>2</th>\n",
       "      <td>Port Samanthamouth</td>\n",
       "      <td>2019-02-24 04:29:00</td>\n",
       "      <td>33.44</td>\n",
       "      <td>2005065760003</td>\n",
       "      <td>57</td>\n",
       "      <td>Urban</td>\n",
       "    </tr>\n",
       "    <tr>\n",
       "      <th>3</th>\n",
       "      <td>Rodneyfort</td>\n",
       "      <td>2019-02-10 23:22:03</td>\n",
       "      <td>23.44</td>\n",
       "      <td>5149245426178</td>\n",
       "      <td>34</td>\n",
       "      <td>Urban</td>\n",
       "    </tr>\n",
       "    <tr>\n",
       "      <th>4</th>\n",
       "      <td>South Jack</td>\n",
       "      <td>2019-03-06 04:28:35</td>\n",
       "      <td>34.58</td>\n",
       "      <td>3908451377344</td>\n",
       "      <td>46</td>\n",
       "      <td>Urban</td>\n",
       "    </tr>\n",
       "  </tbody>\n",
       "</table>\n",
       "</div>"
      ],
      "text/plain": [
       "                 city                date   fare        ride_id  driver_count  \\\n",
       "0  Lake Jonathanshire 2019-01-14 10:14:22  13.83  5739410935873             5   \n",
       "1  South Michelleport 2019-03-04 18:24:09  30.24  2343912425577            72   \n",
       "2  Port Samanthamouth 2019-02-24 04:29:00  33.44  2005065760003            57   \n",
       "3          Rodneyfort 2019-02-10 23:22:03  23.44  5149245426178            34   \n",
       "4          South Jack 2019-03-06 04:28:35  34.58  3908451377344            46   \n",
       "\n",
       "    type  \n",
       "0  Urban  \n",
       "1  Urban  \n",
       "2  Urban  \n",
       "3  Urban  \n",
       "4  Urban  "
      ]
     },
     "execution_count": 115,
     "metadata": {},
     "output_type": "execute_result"
    }
   ],
   "source": [
    "df.head()"
   ]
  },
  {
   "cell_type": "markdown",
   "metadata": {
    "execution": {
     "iopub.execute_input": "2020-11-01T15:25:58.022821Z",
     "iopub.status.busy": "2020-11-01T15:25:58.022445Z",
     "iopub.status.idle": "2020-11-01T15:25:58.052003Z",
     "shell.execute_reply": "2020-11-01T15:25:58.050343Z",
     "shell.execute_reply.started": "2020-11-01T15:25:58.022776Z"
    }
   },
   "source": [
    "### Ride fare bubble chart with Pandas"
   ]
  },
  {
   "cell_type": "code",
   "execution_count": 116,
   "metadata": {
    "tags": []
   },
   "outputs": [
    {
     "data": {
      "text/html": [
       "<div>\n",
       "<style scoped>\n",
       "    .dataframe tbody tr th:only-of-type {\n",
       "        vertical-align: middle;\n",
       "    }\n",
       "\n",
       "    .dataframe tbody tr th {\n",
       "        vertical-align: top;\n",
       "    }\n",
       "\n",
       "    .dataframe thead th {\n",
       "        text-align: right;\n",
       "    }\n",
       "</style>\n",
       "<table border=\"1\" class=\"dataframe\">\n",
       "  <thead>\n",
       "    <tr style=\"text-align: right;\">\n",
       "      <th></th>\n",
       "      <th>City</th>\n",
       "      <th>City Type</th>\n",
       "      <th>Total Rides</th>\n",
       "      <th>Average Fare ($)</th>\n",
       "      <th>Total Drivers</th>\n",
       "      <th>Total Drivers x5</th>\n",
       "      <th>Color</th>\n",
       "    </tr>\n",
       "  </thead>\n",
       "  <tbody>\n",
       "    <tr>\n",
       "      <th>17</th>\n",
       "      <td>Garzaport</td>\n",
       "      <td>Rural</td>\n",
       "      <td>3</td>\n",
       "      <td>24.123333</td>\n",
       "      <td>7</td>\n",
       "      <td>35</td>\n",
       "      <td>lightcoral</td>\n",
       "    </tr>\n",
       "    <tr>\n",
       "      <th>98</th>\n",
       "      <td>South Saramouth</td>\n",
       "      <td>Rural</td>\n",
       "      <td>4</td>\n",
       "      <td>36.160000</td>\n",
       "      <td>7</td>\n",
       "      <td>35</td>\n",
       "      <td>lightcoral</td>\n",
       "    </tr>\n",
       "    <tr>\n",
       "      <th>57</th>\n",
       "      <td>Newtonview</td>\n",
       "      <td>Rural</td>\n",
       "      <td>4</td>\n",
       "      <td>36.745000</td>\n",
       "      <td>1</td>\n",
       "      <td>5</td>\n",
       "      <td>lightcoral</td>\n",
       "    </tr>\n",
       "  </tbody>\n",
       "</table>\n",
       "</div>"
      ],
      "text/plain": [
       "               City City Type  Total Rides  Average Fare ($)  Total Drivers  \\\n",
       "17        Garzaport     Rural            3         24.123333              7   \n",
       "98  South Saramouth     Rural            4         36.160000              7   \n",
       "57       Newtonview     Rural            4         36.745000              1   \n",
       "\n",
       "    Total Drivers x5       Color  \n",
       "17                35  lightcoral  \n",
       "98                35  lightcoral  \n",
       "57                 5  lightcoral  "
      ]
     },
     "execution_count": 116,
     "metadata": {},
     "output_type": "execute_result"
    }
   ],
   "source": [
    "# Aggregate data by by city\n",
    "df_by_city = df.groupby(['city', 'type'], as_index=False) \\\n",
    "               .agg({'ride_id': 'count', 'fare': 'mean', 'driver_count': 'max'}) \\\n",
    "               .sort_values('ride_id')\n",
    "df_by_city.columns = ['City', 'City Type', 'Total Rides', 'Average Fare ($)', 'Total Drivers']\n",
    "df_by_city['Total Drivers x5'] = df_by_city['Total Drivers'] * 5\n",
    "\n",
    "# Assign a color to each city type\n",
    "type_colors = {'Rural': 'lightcoral', 'Suburban': 'limegreen', 'Urban': 'skyblue'}\n",
    "df_by_city['Color'] = df_by_city['City Type'].map(type_colors)\n",
    "df_by_city.head(3)"
   ]
  },
  {
   "cell_type": "code",
   "execution_count": 117,
   "metadata": {
    "tags": []
   },
   "outputs": [
    {
     "data": {
      "image/png": "[encoded data removed]",
      "text/plain": [
       "<Figure size 864x288 with 1 Axes>"
      ]
     },
     "metadata": {},
     "output_type": "display_data"
    }
   ],
   "source": [
    "# Bubble chart\n",
    "bubble_pd = df_by_city.plot(x='Total Rides', y='Average Fare ($)', s='Total Drivers x5', c='Color',\n",
    "                         edgecolor='black', alpha=0.9, kind='scatter', figsize=(12, 4))\n",
    "plt.legend(title='City Type',\n",
    "           handles=[mpl.patches.Patch(color=col, label=lab) for lab, col in type_colors.items()])\n",
    "\n",
    "# Annotation\n",
    "fontdict = dict(size=15, weight='bold')\n",
    "plt.text(41, 34, 'Note:', fontdict=fontdict)\n",
    "plt.text(41, 25, (\n",
    "    'Each data point is\\n'\n",
    "    'a city and its size\\n'\n",
    "    'represents the\\n'\n",
    "    'number of drivers\\n'\n",
    "    'in that city'))\n",
    "\n",
    "plt.show()"
   ]
  },
  {
   "cell_type": "code",
   "execution_count": 118,
   "metadata": {
    "tags": []
   },
   "outputs": [],
   "source": [
    "# Save bubble plot\n",
    "bubble_pd.get_figure().savefig('analysis/pdbubble.png')"
   ]
  },
  {
   "cell_type": "markdown",
   "metadata": {},
   "source": [
    "### Ride fare bubble chart with Matplotlib"
   ]
  },
  {
   "cell_type": "code",
   "execution_count": 119,
   "metadata": {},
   "outputs": [
    {
     "data": {
      "text/html": [
       "<div>\n",
       "<style scoped>\n",
       "    .dataframe tbody tr th:only-of-type {\n",
       "        vertical-align: middle;\n",
       "    }\n",
       "\n",
       "    .dataframe tbody tr th {\n",
       "        vertical-align: top;\n",
       "    }\n",
       "\n",
       "    .dataframe thead th {\n",
       "        text-align: right;\n",
       "    }\n",
       "</style>\n",
       "<table border=\"1\" class=\"dataframe\">\n",
       "  <thead>\n",
       "    <tr style=\"text-align: right;\">\n",
       "      <th></th>\n",
       "      <th>City</th>\n",
       "      <th>City Type</th>\n",
       "      <th>Total Rides</th>\n",
       "      <th>Average Fare ($)</th>\n",
       "      <th>Total Drivers</th>\n",
       "      <th>Total Drivers x5</th>\n",
       "      <th>Color</th>\n",
       "    </tr>\n",
       "  </thead>\n",
       "  <tbody>\n",
       "    <tr>\n",
       "      <th>17</th>\n",
       "      <td>Garzaport</td>\n",
       "      <td>Rural</td>\n",
       "      <td>3</td>\n",
       "      <td>24.123333</td>\n",
       "      <td>7</td>\n",
       "      <td>35</td>\n",
       "      <td>lightcoral</td>\n",
       "    </tr>\n",
       "    <tr>\n",
       "      <th>98</th>\n",
       "      <td>South Saramouth</td>\n",
       "      <td>Rural</td>\n",
       "      <td>4</td>\n",
       "      <td>36.160000</td>\n",
       "      <td>7</td>\n",
       "      <td>35</td>\n",
       "      <td>lightcoral</td>\n",
       "    </tr>\n",
       "    <tr>\n",
       "      <th>57</th>\n",
       "      <td>Newtonview</td>\n",
       "      <td>Rural</td>\n",
       "      <td>4</td>\n",
       "      <td>36.745000</td>\n",
       "      <td>1</td>\n",
       "      <td>5</td>\n",
       "      <td>lightcoral</td>\n",
       "    </tr>\n",
       "    <tr>\n",
       "      <th>77</th>\n",
       "      <td>Randallchester</td>\n",
       "      <td>Rural</td>\n",
       "      <td>5</td>\n",
       "      <td>29.742000</td>\n",
       "      <td>9</td>\n",
       "      <td>45</td>\n",
       "      <td>lightcoral</td>\n",
       "    </tr>\n",
       "    <tr>\n",
       "      <th>70</th>\n",
       "      <td>Penaborough</td>\n",
       "      <td>Rural</td>\n",
       "      <td>5</td>\n",
       "      <td>35.246000</td>\n",
       "      <td>6</td>\n",
       "      <td>30</td>\n",
       "      <td>lightcoral</td>\n",
       "    </tr>\n",
       "  </tbody>\n",
       "</table>\n",
       "</div>"
      ],
      "text/plain": [
       "               City City Type  Total Rides  Average Fare ($)  Total Drivers  \\\n",
       "17        Garzaport     Rural            3         24.123333              7   \n",
       "98  South Saramouth     Rural            4         36.160000              7   \n",
       "57       Newtonview     Rural            4         36.745000              1   \n",
       "77   Randallchester     Rural            5         29.742000              9   \n",
       "70      Penaborough     Rural            5         35.246000              6   \n",
       "\n",
       "    Total Drivers x5       Color  \n",
       "17                35  lightcoral  \n",
       "98                35  lightcoral  \n",
       "57                 5  lightcoral  \n",
       "77                45  lightcoral  \n",
       "70                30  lightcoral  "
      ]
     },
     "execution_count": 119,
     "metadata": {},
     "output_type": "execute_result"
    }
   ],
   "source": [
    "rural_df.head()"
   ]
  },
  {
   "cell_type": "code",
   "execution_count": 120,
   "metadata": {},
   "outputs": [
    {
     "data": {
      "text/plain": [
       "[('Rural', (18, 7)), ('Suburban', (36, 7)), ('Urban', (66, 7))]"
      ]
     },
     "execution_count": 120,
     "metadata": {},
     "output_type": "execute_result"
    }
   ],
   "source": [
    "# Split data by city type\n",
    "rural_df = df_by_city[df_by_city['City Type'] == 'Rural'].copy()\n",
    "suburban_df = df_by_city[df_by_city['City Type'] == 'Suburban'].copy()\n",
    "urban_df = df_by_city[df_by_city['City Type'] == 'Urban'].copy()\n",
    "\n",
    "# Create a dict for the split data\n",
    "type_dfs = {\n",
    "    'Rural': rural_df,\n",
    "    'Suburban': suburban_df,\n",
    "    'Urban': urban_df\n",
    "}\n",
    "[(ctype, frame.shape) for ctype, frame in type_dfs.items()]"
   ]
  },
  {
   "cell_type": "code",
   "execution_count": 121,
   "metadata": {
    "tags": []
   },
   "outputs": [
    {
     "data": {
      "image/png": "[encoded data removed]",
      "text/plain": [
       "<Figure size 864x288 with 1 Axes>"
      ]
     },
     "metadata": {},
     "output_type": "display_data"
    }
   ],
   "source": [
    "# Bubble chart\n",
    "bubble_plt = plt.figure(figsize=(12, 4))\n",
    "for ctype, frame in type_dfs.items():\n",
    "    plt.scatter(data=frame, x='Total Rides', y='Average Fare ($)', s='Total Drivers x5', \n",
    "                c=frame['Color'].mode(), edgecolor='black', alpha=0.9, label=ctype)\n",
    "\n",
    "# Annotation\n",
    "plt.ylabel('Average Fare ($)')\n",
    "plt.xlabel('Total Rides')\n",
    "plt.text(41, 34, 'Note:', fontdict=fontdict)\n",
    "plt.text(41, 25, (\n",
    "    'Each data point is\\n'\n",
    "    'a city and its size\\n'\n",
    "    'represents the\\n'\n",
    "    'number of drivers\\n'\n",
    "    'in that city'))\n",
    "\n",
    "# Legend\n",
    "lgnd = plt.legend(title='City Type', mode='Expanded', scatterpoints=1)\n",
    "lgnd.get_title().set_fontsize(15)\n",
    "for i in range(3):\n",
    "    lgnd.legendHandles[i]._sizes = [100]\n",
    "plt.show()"
   ]
  },
  {
   "cell_type": "code",
   "execution_count": 122,
   "metadata": {
    "tags": []
   },
   "outputs": [],
   "source": [
    "bubble_plt.savefig('analysis/pltbubble.png')"
   ]
  },
  {
   "cell_type": "markdown",
   "metadata": {},
   "source": [
    "### City type box plots"
   ]
  },
  {
   "cell_type": "code",
   "execution_count": 123,
   "metadata": {
    "tags": []
   },
   "outputs": [
    {
     "data": {
      "image/png": "[encoded data removed]",
      "text/plain": [
       "<Figure size 864x288 with 3 Axes>"
      ]
     },
     "metadata": {},
     "output_type": "display_data"
    }
   ],
   "source": [
    "# Cols to plot\n",
    "box_cols = ['Total Rides', 'Average Fare ($)', 'Total Drivers']\n",
    "\n",
    "# Box plots\n",
    "box, ax = plt.subplots(1, 3, figsize=(12, 4))\n",
    "box.suptitle('City Data by Type')\n",
    "for i in range(3):\n",
    "    ax[i].boxplot([frame[box_cols[i]] for frame in type_dfs.values()], labels=list(type_dfs.keys()))\n",
    "    ax[i].set_ylabel(box_cols[i])\n",
    "    ax[i].set_xlabel('City Type')\n",
    "plt.show()"
   ]
  },
  {
   "cell_type": "code",
   "execution_count": 124,
   "metadata": {
    "tags": []
   },
   "outputs": [],
   "source": [
    "box.savefig('analysis/box.png')"
   ]
  },
  {
   "cell_type": "markdown",
   "metadata": {
    "execution": {
     "iopub.execute_input": "2020-11-01T17:12:13.887678Z",
     "iopub.status.busy": "2020-11-01T17:12:13.887419Z",
     "iopub.status.idle": "2020-11-01T17:12:13.892996Z",
     "shell.execute_reply": "2020-11-01T17:12:13.891428Z",
     "shell.execute_reply.started": "2020-11-01T17:12:13.887650Z"
    }
   },
   "source": [
    "### City type pie charts"
   ]
  },
  {
   "cell_type": "code",
   "execution_count": 164,
   "metadata": {
    "tags": []
   },
   "outputs": [
    {
     "data": {
      "text/html": [
       "<div>\n",
       "<style scoped>\n",
       "    .dataframe tbody tr th:only-of-type {\n",
       "        vertical-align: middle;\n",
       "    }\n",
       "\n",
       "    .dataframe tbody tr th {\n",
       "        vertical-align: top;\n",
       "    }\n",
       "\n",
       "    .dataframe thead th {\n",
       "        text-align: right;\n",
       "    }\n",
       "</style>\n",
       "<table border=\"1\" class=\"dataframe\">\n",
       "  <thead>\n",
       "    <tr style=\"text-align: right;\">\n",
       "      <th></th>\n",
       "      <th>City Type</th>\n",
       "      <th>Total Rides</th>\n",
       "      <th>Total Fare ($)</th>\n",
       "      <th>Total Drivers</th>\n",
       "      <th>Color</th>\n",
       "    </tr>\n",
       "  </thead>\n",
       "  <tbody>\n",
       "    <tr>\n",
       "      <th>0</th>\n",
       "      <td>Rural</td>\n",
       "      <td>125</td>\n",
       "      <td>4327.93</td>\n",
       "      <td>78</td>\n",
       "      <td>lightcoral</td>\n",
       "    </tr>\n",
       "    <tr>\n",
       "      <th>1</th>\n",
       "      <td>Suburban</td>\n",
       "      <td>625</td>\n",
       "      <td>19356.33</td>\n",
       "      <td>490</td>\n",
       "      <td>limegreen</td>\n",
       "    </tr>\n",
       "    <tr>\n",
       "      <th>2</th>\n",
       "      <td>Urban</td>\n",
       "      <td>1625</td>\n",
       "      <td>39854.38</td>\n",
       "      <td>2405</td>\n",
       "      <td>skyblue</td>\n",
       "    </tr>\n",
       "  </tbody>\n",
       "</table>\n",
       "</div>"
      ],
      "text/plain": [
       "  City Type  Total Rides  Total Fare ($)  Total Drivers       Color\n",
       "0     Rural          125         4327.93             78  lightcoral\n",
       "1  Suburban          625        19356.33            490   limegreen\n",
       "2     Urban         1625        39854.38           2405     skyblue"
      ]
     },
     "execution_count": 164,
     "metadata": {},
     "output_type": "execute_result"
    }
   ],
   "source": [
    "# Aggregate data by city type\n",
    "df_by_type = df.groupby('type').agg({'ride_id': 'count', 'fare': 'sum'})\n",
    "df_by_type['Total Drivers'] = city_df.groupby('type')['driver_count'].sum()\n",
    "\n",
    "# Formatting\n",
    "df_by_type.reset_index(inplace=True)\n",
    "df_by_type.columns = ['City Type', 'Total Rides', 'Total Fare ($)', 'Total Drivers']\n",
    "df_by_type['Color'] = df_by_type['City Type'].map(type_colors)\n",
    "df_by_type"
   ]
  },
  {
   "cell_type": "code",
   "execution_count": 127,
   "metadata": {
    "tags": []
   },
   "outputs": [
    {
     "data": {
      "image/png": "[encoded data removed]",
      "text/plain": [
       "<Figure size 864x288 with 3 Axes>"
      ]
     },
     "metadata": {},
     "output_type": "display_data"
    }
   ],
   "source": [
    "# Cols to plot\n",
    "pie_cols = ['Total Fare', 'Total Rides', 'Total Drivers']\n",
    "\n",
    "# Pie charts\n",
    "pie, ax = plt.subplots(1, 3, figsize=(12, 4))\n",
    "for i in range(3):\n",
    "    ax[i].pie(x=df_by_type[pie_cols[i]], labels=df_by_type['City Type'], colors=df_by_type['Color'],\n",
    "              autopct='%.2f%%', startangle=150, explode=[0, 0, 0.15], shadow=True)\n",
    "    ax[i].set_title(pie_cols[i] + ' by City Type', fontsize=15)\n",
    "plt.show()"
   ]
  },
  {
   "cell_type": "code",
   "execution_count": 129,
   "metadata": {
    "tags": []
   },
   "outputs": [],
   "source": [
    "pie.savefig('analysis/pie.png')"
   ]
  },
  {
   "cell_type": "markdown",
   "metadata": {},
   "source": [
    "### City type summary"
   ]
  },
  {
   "cell_type": "code",
   "execution_count": 165,
   "metadata": {
    "tags": []
   },
   "outputs": [
    {
     "data": {
      "text/html": [
       "<div>\n",
       "<style scoped>\n",
       "    .dataframe tbody tr th:only-of-type {\n",
       "        vertical-align: middle;\n",
       "    }\n",
       "\n",
       "    .dataframe tbody tr th {\n",
       "        vertical-align: top;\n",
       "    }\n",
       "\n",
       "    .dataframe thead th {\n",
       "        text-align: right;\n",
       "    }\n",
       "</style>\n",
       "<table border=\"1\" class=\"dataframe\">\n",
       "  <thead>\n",
       "    <tr style=\"text-align: right;\">\n",
       "      <th></th>\n",
       "      <th>Total Rides</th>\n",
       "      <th>Total Fare ($)</th>\n",
       "      <th>Total Drivers</th>\n",
       "      <th>Color</th>\n",
       "    </tr>\n",
       "    <tr>\n",
       "      <th>City Type</th>\n",
       "      <th></th>\n",
       "      <th></th>\n",
       "      <th></th>\n",
       "      <th></th>\n",
       "    </tr>\n",
       "  </thead>\n",
       "  <tbody>\n",
       "    <tr>\n",
       "      <th>Rural</th>\n",
       "      <td>125</td>\n",
       "      <td>4327.93</td>\n",
       "      <td>78</td>\n",
       "      <td>lightcoral</td>\n",
       "    </tr>\n",
       "    <tr>\n",
       "      <th>Suburban</th>\n",
       "      <td>625</td>\n",
       "      <td>19356.33</td>\n",
       "      <td>490</td>\n",
       "      <td>limegreen</td>\n",
       "    </tr>\n",
       "    <tr>\n",
       "      <th>Urban</th>\n",
       "      <td>1625</td>\n",
       "      <td>39854.38</td>\n",
       "      <td>2405</td>\n",
       "      <td>skyblue</td>\n",
       "    </tr>\n",
       "  </tbody>\n",
       "</table>\n",
       "</div>"
      ],
      "text/plain": [
       "           Total Rides  Total Fare ($)  Total Drivers       Color\n",
       "City Type                                                        \n",
       "Rural              125         4327.93             78  lightcoral\n",
       "Suburban           625        19356.33            490   limegreen\n",
       "Urban             1625        39854.38           2405     skyblue"
      ]
     },
     "execution_count": 165,
     "metadata": {},
     "output_type": "execute_result"
    }
   ],
   "source": [
    "# Set city type as index\n",
    "df_by_type.set_index('City Type', inplace=True)\n",
    "df_by_type"
   ]
  },
  {
   "cell_type": "code",
   "execution_count": 166,
   "metadata": {},
   "outputs": [
    {
     "data": {
      "text/html": [
       "<div>\n",
       "<style scoped>\n",
       "    .dataframe tbody tr th:only-of-type {\n",
       "        vertical-align: middle;\n",
       "    }\n",
       "\n",
       "    .dataframe tbody tr th {\n",
       "        vertical-align: top;\n",
       "    }\n",
       "\n",
       "    .dataframe thead th {\n",
       "        text-align: right;\n",
       "    }\n",
       "</style>\n",
       "<table border=\"1\" class=\"dataframe\">\n",
       "  <thead>\n",
       "    <tr style=\"text-align: right;\">\n",
       "      <th></th>\n",
       "      <th>Total Rides</th>\n",
       "      <th>Total Fare ($)</th>\n",
       "      <th>Total Drivers</th>\n",
       "      <th>Color</th>\n",
       "      <th>Total Cities</th>\n",
       "      <th>Average Fare Per Ride ($)</th>\n",
       "      <th>Average Fare Per Driver ($)</th>\n",
       "      <th>Average Rides (per city)</th>\n",
       "      <th>Average Drivers (per city)</th>\n",
       "    </tr>\n",
       "    <tr>\n",
       "      <th>City Type</th>\n",
       "      <th></th>\n",
       "      <th></th>\n",
       "      <th></th>\n",
       "      <th></th>\n",
       "      <th></th>\n",
       "      <th></th>\n",
       "      <th></th>\n",
       "      <th></th>\n",
       "      <th></th>\n",
       "    </tr>\n",
       "  </thead>\n",
       "  <tbody>\n",
       "    <tr>\n",
       "      <th>Rural</th>\n",
       "      <td>125</td>\n",
       "      <td>4327.93</td>\n",
       "      <td>78</td>\n",
       "      <td>lightcoral</td>\n",
       "      <td>18</td>\n",
       "      <td>34.623440</td>\n",
       "      <td>55.486282</td>\n",
       "      <td>6.944444</td>\n",
       "      <td>4.333333</td>\n",
       "    </tr>\n",
       "    <tr>\n",
       "      <th>Suburban</th>\n",
       "      <td>625</td>\n",
       "      <td>19356.33</td>\n",
       "      <td>490</td>\n",
       "      <td>limegreen</td>\n",
       "      <td>36</td>\n",
       "      <td>30.970128</td>\n",
       "      <td>39.502714</td>\n",
       "      <td>17.361111</td>\n",
       "      <td>13.611111</td>\n",
       "    </tr>\n",
       "    <tr>\n",
       "      <th>Urban</th>\n",
       "      <td>1625</td>\n",
       "      <td>39854.38</td>\n",
       "      <td>2405</td>\n",
       "      <td>skyblue</td>\n",
       "      <td>66</td>\n",
       "      <td>24.525772</td>\n",
       "      <td>16.571468</td>\n",
       "      <td>24.621212</td>\n",
       "      <td>36.439394</td>\n",
       "    </tr>\n",
       "  </tbody>\n",
       "</table>\n",
       "</div>"
      ],
      "text/plain": [
       "           Total Rides  Total Fare ($)  Total Drivers       Color  \\\n",
       "City Type                                                           \n",
       "Rural              125         4327.93             78  lightcoral   \n",
       "Suburban           625        19356.33            490   limegreen   \n",
       "Urban             1625        39854.38           2405     skyblue   \n",
       "\n",
       "           Total Cities  Average Fare Per Ride ($)  \\\n",
       "City Type                                            \n",
       "Rural                18                  34.623440   \n",
       "Suburban             36                  30.970128   \n",
       "Urban                66                  24.525772   \n",
       "\n",
       "           Average Fare Per Driver ($)  Average Rides (per city)  \\\n",
       "City Type                                                          \n",
       "Rural                        55.486282                  6.944444   \n",
       "Suburban                     39.502714                 17.361111   \n",
       "Urban                        16.571468                 24.621212   \n",
       "\n",
       "           Average Drivers (per city)  \n",
       "City Type                              \n",
       "Rural                        4.333333  \n",
       "Suburban                    13.611111  \n",
       "Urban                       36.439394  "
      ]
     },
     "execution_count": 166,
     "metadata": {},
     "output_type": "execute_result"
    }
   ],
   "source": [
    "# Add city count to type summary\n",
    "df_by_type['Total Cities'] = df_by_city.groupby('City Type')['City'].count()\n",
    "\n",
    "# Calculate averages for each type\n",
    "df_by_type['Average Fare Per Ride ($)'] = df_by_type['Total Fare ($)'] / df_by_type['Total Rides']\n",
    "df_by_type['Average Fare Per Driver ($)'] = df_by_type['Total Fare ($)'] / df_by_type['Total Drivers']\n",
    "df_by_type['Average Rides (per city)'] = df_by_type['Total Rides'] / df_by_type['Total Cities']\n",
    "df_by_type['Average Drivers (per city)'] = df_by_type['Total Drivers'] / df_by_type['Total Cities']\n",
    "df_by_type"
   ]
  },
  {
   "cell_type": "code",
   "execution_count": 167,
   "metadata": {
    "tags": []
   },
   "outputs": [
    {
     "data": {
      "text/html": [
       "<div>\n",
       "<style scoped>\n",
       "    .dataframe tbody tr th:only-of-type {\n",
       "        vertical-align: middle;\n",
       "    }\n",
       "\n",
       "    .dataframe tbody tr th {\n",
       "        vertical-align: top;\n",
       "    }\n",
       "\n",
       "    .dataframe thead th {\n",
       "        text-align: right;\n",
       "    }\n",
       "</style>\n",
       "<table border=\"1\" class=\"dataframe\">\n",
       "  <thead>\n",
       "    <tr style=\"text-align: right;\">\n",
       "      <th></th>\n",
       "      <th>Total Cities</th>\n",
       "      <th>Total Fare ($)</th>\n",
       "      <th>Total Rides</th>\n",
       "      <th>Total Drivers</th>\n",
       "      <th>Average Fare Per Ride ($)</th>\n",
       "      <th>Average Fare Per Driver ($)</th>\n",
       "      <th>Average Rides (per city)</th>\n",
       "      <th>Average Drivers (per city)</th>\n",
       "    </tr>\n",
       "    <tr>\n",
       "      <th>City Type</th>\n",
       "      <th></th>\n",
       "      <th></th>\n",
       "      <th></th>\n",
       "      <th></th>\n",
       "      <th></th>\n",
       "      <th></th>\n",
       "      <th></th>\n",
       "      <th></th>\n",
       "    </tr>\n",
       "  </thead>\n",
       "  <tbody>\n",
       "    <tr>\n",
       "      <th>Rural</th>\n",
       "      <td>18</td>\n",
       "      <td>4,327.93</td>\n",
       "      <td>125</td>\n",
       "      <td>78</td>\n",
       "      <td>34.62</td>\n",
       "      <td>55.49</td>\n",
       "      <td>7</td>\n",
       "      <td>4</td>\n",
       "    </tr>\n",
       "    <tr>\n",
       "      <th>Suburban</th>\n",
       "      <td>36</td>\n",
       "      <td>19,356.33</td>\n",
       "      <td>625</td>\n",
       "      <td>490</td>\n",
       "      <td>30.97</td>\n",
       "      <td>39.50</td>\n",
       "      <td>17</td>\n",
       "      <td>14</td>\n",
       "    </tr>\n",
       "    <tr>\n",
       "      <th>Urban</th>\n",
       "      <td>66</td>\n",
       "      <td>39,854.38</td>\n",
       "      <td>1,625</td>\n",
       "      <td>2,405</td>\n",
       "      <td>24.53</td>\n",
       "      <td>16.57</td>\n",
       "      <td>25</td>\n",
       "      <td>36</td>\n",
       "    </tr>\n",
       "  </tbody>\n",
       "</table>\n",
       "</div>"
      ],
      "text/plain": [
       "          Total Cities Total Fare ($) Total Rides Total Drivers  \\\n",
       "City Type                                                         \n",
       "Rural               18       4,327.93         125            78   \n",
       "Suburban            36      19,356.33         625           490   \n",
       "Urban               66      39,854.38       1,625         2,405   \n",
       "\n",
       "          Average Fare Per Ride ($) Average Fare Per Driver ($)  \\\n",
       "City Type                                                         \n",
       "Rural                         34.62                       55.49   \n",
       "Suburban                      30.97                       39.50   \n",
       "Urban                         24.53                       16.57   \n",
       "\n",
       "           Average Rides (per city)  Average Drivers (per city)  \n",
       "City Type                                                        \n",
       "Rural                             7                           4  \n",
       "Suburban                         17                          14  \n",
       "Urban                            25                          36  "
      ]
     },
     "execution_count": 167,
     "metadata": {},
     "output_type": "execute_result"
    }
   ],
   "source": [
    "# Order columns\n",
    "type_summ_cols = ['Total Cities', 'Total Fare ($)', 'Total Rides', 'Total Drivers', \n",
    "                  'Average Fare Per Ride ($)', 'Average Fare Per Driver ($)', \n",
    "                  'Average Rides (per city)', 'Average Drivers (per city)']\n",
    "df_by_type = df_by_type[type_summ_cols].copy()\n",
    "\n",
    "# Format summary\n",
    "for col in df_by_type.columns:\n",
    "    if 'per city' in col:\n",
    "        df_by_type[col] = df_by_type[col].round(0).astype(int)\n",
    "    elif '$' in col:\n",
    "        df_by_type[col] = df_by_type[col].map('{:,.2f}'.format)\n",
    "    else:\n",
    "        df_by_type[col] = df_by_type[col].map('{:,}'.format)\n",
    "        \n",
    "df_by_type"
   ]
  },
  {
   "cell_type": "markdown",
   "metadata": {},
   "source": [
    "### Weekly total fares by city type"
   ]
  },
  {
   "cell_type": "code",
   "execution_count": 35,
   "metadata": {
    "execution": {
     "iopub.execute_input": "2020-11-02T22:30:44.224146Z",
     "iopub.status.busy": "2020-11-02T22:30:44.223783Z",
     "iopub.status.idle": "2020-11-02T22:30:44.248440Z",
     "shell.execute_reply": "2020-11-02T22:30:44.247203Z",
     "shell.execute_reply.started": "2020-11-02T22:30:44.224115Z"
    }
   },
   "outputs": [
    {
     "data": {
      "text/html": [
       "<div>\n",
       "<style scoped>\n",
       "    .dataframe tbody tr th:only-of-type {\n",
       "        vertical-align: middle;\n",
       "    }\n",
       "\n",
       "    .dataframe tbody tr th {\n",
       "        vertical-align: top;\n",
       "    }\n",
       "\n",
       "    .dataframe thead th {\n",
       "        text-align: right;\n",
       "    }\n",
       "</style>\n",
       "<table border=\"1\" class=\"dataframe\">\n",
       "  <thead>\n",
       "    <tr style=\"text-align: right;\">\n",
       "      <th>type</th>\n",
       "      <th>Rural</th>\n",
       "      <th>Suburban</th>\n",
       "      <th>Urban</th>\n",
       "    </tr>\n",
       "    <tr>\n",
       "      <th>date</th>\n",
       "      <th></th>\n",
       "      <th></th>\n",
       "      <th></th>\n",
       "    </tr>\n",
       "  </thead>\n",
       "  <tbody>\n",
       "    <tr>\n",
       "      <th>2019-01-01 00:08:16</th>\n",
       "      <td>0.0</td>\n",
       "      <td>0.00</td>\n",
       "      <td>37.91</td>\n",
       "    </tr>\n",
       "    <tr>\n",
       "      <th>2019-01-01 00:46:46</th>\n",
       "      <td>0.0</td>\n",
       "      <td>47.74</td>\n",
       "      <td>0.00</td>\n",
       "    </tr>\n",
       "    <tr>\n",
       "      <th>2019-01-01 02:07:24</th>\n",
       "      <td>0.0</td>\n",
       "      <td>24.07</td>\n",
       "      <td>0.00</td>\n",
       "    </tr>\n",
       "    <tr>\n",
       "      <th>2019-01-01 03:46:50</th>\n",
       "      <td>0.0</td>\n",
       "      <td>0.00</td>\n",
       "      <td>7.57</td>\n",
       "    </tr>\n",
       "    <tr>\n",
       "      <th>2019-01-01 05:23:21</th>\n",
       "      <td>0.0</td>\n",
       "      <td>0.00</td>\n",
       "      <td>10.75</td>\n",
       "    </tr>\n",
       "    <tr>\n",
       "      <th>...</th>\n",
       "      <td>...</td>\n",
       "      <td>...</td>\n",
       "      <td>...</td>\n",
       "    </tr>\n",
       "    <tr>\n",
       "      <th>2019-05-08 04:20:00</th>\n",
       "      <td>0.0</td>\n",
       "      <td>0.00</td>\n",
       "      <td>21.99</td>\n",
       "    </tr>\n",
       "    <tr>\n",
       "      <th>2019-05-08 04:39:49</th>\n",
       "      <td>0.0</td>\n",
       "      <td>0.00</td>\n",
       "      <td>18.45</td>\n",
       "    </tr>\n",
       "    <tr>\n",
       "      <th>2019-05-08 07:29:01</th>\n",
       "      <td>0.0</td>\n",
       "      <td>0.00</td>\n",
       "      <td>18.55</td>\n",
       "    </tr>\n",
       "    <tr>\n",
       "      <th>2019-05-08 11:38:35</th>\n",
       "      <td>0.0</td>\n",
       "      <td>0.00</td>\n",
       "      <td>19.77</td>\n",
       "    </tr>\n",
       "    <tr>\n",
       "      <th>2019-05-08 13:10:18</th>\n",
       "      <td>0.0</td>\n",
       "      <td>0.00</td>\n",
       "      <td>18.04</td>\n",
       "    </tr>\n",
       "  </tbody>\n",
       "</table>\n",
       "<p>2375 rows × 3 columns</p>\n",
       "</div>"
      ],
      "text/plain": [
       "type                 Rural  Suburban  Urban\n",
       "date                                       \n",
       "2019-01-01 00:08:16    0.0      0.00  37.91\n",
       "2019-01-01 00:46:46    0.0     47.74   0.00\n",
       "2019-01-01 02:07:24    0.0     24.07   0.00\n",
       "2019-01-01 03:46:50    0.0      0.00   7.57\n",
       "2019-01-01 05:23:21    0.0      0.00  10.75\n",
       "...                    ...       ...    ...\n",
       "2019-05-08 04:20:00    0.0      0.00  21.99\n",
       "2019-05-08 04:39:49    0.0      0.00  18.45\n",
       "2019-05-08 07:29:01    0.0      0.00  18.55\n",
       "2019-05-08 11:38:35    0.0      0.00  19.77\n",
       "2019-05-08 13:10:18    0.0      0.00  18.04\n",
       "\n",
       "[2375 rows x 3 columns]"
      ]
     },
     "execution_count": 35,
     "metadata": {},
     "output_type": "execute_result"
    }
   ],
   "source": [
    "# Create a pivot table with the date as the index, city type as the columns, and fare as the values\n",
    "weekly_fares = df.pivot(index='date', columns='type', values='fare').fillna(0)\n",
    "weekly_fares"
   ]
  },
  {
   "cell_type": "code",
   "execution_count": 43,
   "metadata": {
    "execution": {
     "iopub.execute_input": "2020-11-02T22:37:56.467832Z",
     "iopub.status.busy": "2020-11-02T22:37:56.467562Z",
     "iopub.status.idle": "2020-11-02T22:37:56.487775Z",
     "shell.execute_reply": "2020-11-02T22:37:56.486540Z",
     "shell.execute_reply.started": "2020-11-02T22:37:56.467802Z"
    }
   },
   "outputs": [
    {
     "data": {
      "text/html": [
       "<div>\n",
       "<style scoped>\n",
       "    .dataframe tbody tr th:only-of-type {\n",
       "        vertical-align: middle;\n",
       "    }\n",
       "\n",
       "    .dataframe tbody tr th {\n",
       "        vertical-align: top;\n",
       "    }\n",
       "\n",
       "    .dataframe thead th {\n",
       "        text-align: right;\n",
       "    }\n",
       "</style>\n",
       "<table border=\"1\" class=\"dataframe\">\n",
       "  <thead>\n",
       "    <tr style=\"text-align: right;\">\n",
       "      <th></th>\n",
       "      <th>Rural</th>\n",
       "      <th>Suburban</th>\n",
       "      <th>Urban</th>\n",
       "    </tr>\n",
       "  </thead>\n",
       "  <tbody>\n",
       "    <tr>\n",
       "      <th>2019-01-06</th>\n",
       "      <td>187.92</td>\n",
       "      <td>721.60</td>\n",
       "      <td>1661.68</td>\n",
       "    </tr>\n",
       "    <tr>\n",
       "      <th>2019-01-13</th>\n",
       "      <td>67.65</td>\n",
       "      <td>1105.13</td>\n",
       "      <td>2050.43</td>\n",
       "    </tr>\n",
       "    <tr>\n",
       "      <th>2019-01-20</th>\n",
       "      <td>306.00</td>\n",
       "      <td>1218.20</td>\n",
       "      <td>1939.02</td>\n",
       "    </tr>\n",
       "    <tr>\n",
       "      <th>2019-01-27</th>\n",
       "      <td>179.69</td>\n",
       "      <td>1203.28</td>\n",
       "      <td>2129.51</td>\n",
       "    </tr>\n",
       "    <tr>\n",
       "      <th>2019-02-03</th>\n",
       "      <td>333.08</td>\n",
       "      <td>1042.79</td>\n",
       "      <td>2086.94</td>\n",
       "    </tr>\n",
       "    <tr>\n",
       "      <th>2019-02-10</th>\n",
       "      <td>115.80</td>\n",
       "      <td>974.34</td>\n",
       "      <td>2162.64</td>\n",
       "    </tr>\n",
       "    <tr>\n",
       "      <th>2019-02-17</th>\n",
       "      <td>95.82</td>\n",
       "      <td>1045.50</td>\n",
       "      <td>2235.07</td>\n",
       "    </tr>\n",
       "    <tr>\n",
       "      <th>2019-02-24</th>\n",
       "      <td>419.06</td>\n",
       "      <td>1412.74</td>\n",
       "      <td>2466.29</td>\n",
       "    </tr>\n",
       "    <tr>\n",
       "      <th>2019-03-03</th>\n",
       "      <td>175.14</td>\n",
       "      <td>858.46</td>\n",
       "      <td>2218.20</td>\n",
       "    </tr>\n",
       "    <tr>\n",
       "      <th>2019-03-10</th>\n",
       "      <td>303.94</td>\n",
       "      <td>925.27</td>\n",
       "      <td>2470.93</td>\n",
       "    </tr>\n",
       "    <tr>\n",
       "      <th>2019-03-17</th>\n",
       "      <td>163.39</td>\n",
       "      <td>906.20</td>\n",
       "      <td>2044.42</td>\n",
       "    </tr>\n",
       "    <tr>\n",
       "      <th>2019-03-24</th>\n",
       "      <td>189.76</td>\n",
       "      <td>1122.20</td>\n",
       "      <td>2368.37</td>\n",
       "    </tr>\n",
       "    <tr>\n",
       "      <th>2019-03-31</th>\n",
       "      <td>199.42</td>\n",
       "      <td>1045.06</td>\n",
       "      <td>1942.77</td>\n",
       "    </tr>\n",
       "    <tr>\n",
       "      <th>2019-04-07</th>\n",
       "      <td>501.24</td>\n",
       "      <td>1010.73</td>\n",
       "      <td>2356.70</td>\n",
       "    </tr>\n",
       "    <tr>\n",
       "      <th>2019-04-14</th>\n",
       "      <td>269.79</td>\n",
       "      <td>784.82</td>\n",
       "      <td>2390.72</td>\n",
       "    </tr>\n",
       "    <tr>\n",
       "      <th>2019-04-21</th>\n",
       "      <td>214.14</td>\n",
       "      <td>1149.27</td>\n",
       "      <td>2303.80</td>\n",
       "    </tr>\n",
       "    <tr>\n",
       "      <th>2019-04-28</th>\n",
       "      <td>191.85</td>\n",
       "      <td>1357.75</td>\n",
       "      <td>2238.29</td>\n",
       "    </tr>\n",
       "    <tr>\n",
       "      <th>2019-05-05</th>\n",
       "      <td>257.42</td>\n",
       "      <td>1164.78</td>\n",
       "      <td>2178.57</td>\n",
       "    </tr>\n",
       "  </tbody>\n",
       "</table>\n",
       "</div>"
      ],
      "text/plain": [
       "             Rural  Suburban    Urban\n",
       "2019-01-06  187.92    721.60  1661.68\n",
       "2019-01-13   67.65   1105.13  2050.43\n",
       "2019-01-20  306.00   1218.20  1939.02\n",
       "2019-01-27  179.69   1203.28  2129.51\n",
       "2019-02-03  333.08   1042.79  2086.94\n",
       "2019-02-10  115.80    974.34  2162.64\n",
       "2019-02-17   95.82   1045.50  2235.07\n",
       "2019-02-24  419.06   1412.74  2466.29\n",
       "2019-03-03  175.14    858.46  2218.20\n",
       "2019-03-10  303.94    925.27  2470.93\n",
       "2019-03-17  163.39    906.20  2044.42\n",
       "2019-03-24  189.76   1122.20  2368.37\n",
       "2019-03-31  199.42   1045.06  1942.77\n",
       "2019-04-07  501.24   1010.73  2356.70\n",
       "2019-04-14  269.79    784.82  2390.72\n",
       "2019-04-21  214.14   1149.27  2303.80\n",
       "2019-04-28  191.85   1357.75  2238.29\n",
       "2019-05-05  257.42   1164.78  2178.57"
      ]
     },
     "execution_count": 43,
     "metadata": {},
     "output_type": "execute_result"
    }
   ],
   "source": [
    "# Downsample to weekly frequency\n",
    "weekly_fares = weekly_fares.resample('w').sum()\n",
    "weekly_fares = weekly_fares.iloc[:-1]\n",
    "weekly_fares.index.name = None\n",
    "weekly_fares.columns.name = None\n",
    "weekly_fares"
   ]
  },
  {
   "cell_type": "code",
   "execution_count": 54,
   "metadata": {
    "execution": {
     "iopub.execute_input": "2020-11-02T22:42:14.932658Z",
     "iopub.status.busy": "2020-11-02T22:42:14.932201Z",
     "iopub.status.idle": "2020-11-02T22:42:15.351555Z",
     "shell.execute_reply": "2020-11-02T22:42:15.350374Z",
     "shell.execute_reply.started": "2020-11-02T22:42:14.932611Z"
    }
   },
   "outputs": [
    {
     "data": {
      "image/png": "[encoded data removed]",
      "text/plain": [
       "<Figure size 864x288 with 1 Axes>"
      ]
     },
     "metadata": {
      "needs_background": "light"
     },
     "output_type": "display_data"
    }
   ],
   "source": [
    "# Line plots\n",
    "lineplot = weekly_fares.plot(title='Weekly Total Fares By City Type', figsize=(12, 4),\n",
    "                             color=['lightcoral', 'limegreen', 'skyblue'], grid=True)\n",
    "plt.ylabel('Total Fares ($)', fontsize=12)\n",
    "plt.xlabel('Week', fontsize=12)\n",
    "plt.legend(title='City Type', bbox_to_anchor=(1, 1))\n",
    "plt.show()"
   ]
  },
  {
   "cell_type": "code",
   "execution_count": 55,
   "metadata": {
    "execution": {
     "iopub.execute_input": "2020-11-02T22:42:57.217120Z",
     "iopub.status.busy": "2020-11-02T22:42:57.216863Z",
     "iopub.status.idle": "2020-11-02T22:42:57.424730Z",
     "shell.execute_reply": "2020-11-02T22:42:57.423973Z",
     "shell.execute_reply.started": "2020-11-02T22:42:57.217092Z"
    }
   },
   "outputs": [],
   "source": [
    "lineplot.get_figure().savefig('analysis/lines.png')"
   ]
  },
  {
   "cell_type": "markdown",
   "metadata": {},
   "source": []
  }
 ],
 "metadata": {
  "kernelspec": {
   "display_name": "Python [conda env:PythonData] *",
   "language": "python",
   "name": "conda-env-PythonData-py"
  },
  "language_info": {
   "codemirror_mode": {
    "name": "ipython",
    "version": 3
   },
   "file_extension": ".py",
   "mimetype": "text/x-python",
   "name": "python",
   "nbconvert_exporter": "python",
   "pygments_lexer": "ipython3",
   "version": "3.7.10"
  }
 },
 "nbformat": 4,
 "nbformat_minor": 4
}
