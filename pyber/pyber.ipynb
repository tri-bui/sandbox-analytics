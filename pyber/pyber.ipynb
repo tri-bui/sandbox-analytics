{
 "cells": [
  {
   "cell_type": "markdown",
   "metadata": {},
   "source": [
    "# PyBer\n",
    "\n",
    "### Dependencies and data"
   ]
  },
  {
   "cell_type": "code",
   "execution_count": 1,
   "metadata": {
    "tags": []
   },
   "outputs": [],
   "source": [
    "# Dependencies\n",
    "import os\n",
    "import scipy as sp\n",
    "import numpy as np\n",
    "import pandas as pd\n",
    "import matplotlib as mpl\n",
    "import matplotlib.pyplot as plt\n",
    "\n",
    "%matplotlib inline"
   ]
  },
  {
   "cell_type": "code",
   "execution_count": 40,
   "metadata": {},
   "outputs": [],
   "source": [
    "# Plot settings\n",
    "mpl.style.use('fivethirtyeight')\n",
    "mpl.rcParams['savefig.bbox'] = 'tight'"
   ]
  },
  {
   "cell_type": "code",
   "execution_count": 2,
   "metadata": {
    "tags": []
   },
   "outputs": [
    {
     "name": "stdout",
     "output_type": "stream",
     "text": [
      "<class 'pandas.core.frame.DataFrame'>\n",
      "RangeIndex: 120 entries, 0 to 119\n",
      "Data columns (total 3 columns):\n",
      " #   Column        Non-Null Count  Dtype \n",
      "---  ------        --------------  ----- \n",
      " 0   city          120 non-null    object\n",
      " 1   driver_count  120 non-null    int64 \n",
      " 2   type          120 non-null    object\n",
      "dtypes: int64(1), object(2)\n",
      "memory usage: 2.9+ KB\n",
      "None\n"
     ]
    },
    {
     "data": {
      "text/html": [
       "<div>\n",
       "<style scoped>\n",
       "    .dataframe tbody tr th:only-of-type {\n",
       "        vertical-align: middle;\n",
       "    }\n",
       "\n",
       "    .dataframe tbody tr th {\n",
       "        vertical-align: top;\n",
       "    }\n",
       "\n",
       "    .dataframe thead th {\n",
       "        text-align: right;\n",
       "    }\n",
       "</style>\n",
       "<table border=\"1\" class=\"dataframe\">\n",
       "  <thead>\n",
       "    <tr style=\"text-align: right;\">\n",
       "      <th></th>\n",
       "      <th>city</th>\n",
       "      <th>driver_count</th>\n",
       "      <th>type</th>\n",
       "    </tr>\n",
       "  </thead>\n",
       "  <tbody>\n",
       "    <tr>\n",
       "      <th>0</th>\n",
       "      <td>Richardfort</td>\n",
       "      <td>38</td>\n",
       "      <td>Urban</td>\n",
       "    </tr>\n",
       "    <tr>\n",
       "      <th>1</th>\n",
       "      <td>Williamsstad</td>\n",
       "      <td>59</td>\n",
       "      <td>Urban</td>\n",
       "    </tr>\n",
       "    <tr>\n",
       "      <th>2</th>\n",
       "      <td>Port Angela</td>\n",
       "      <td>67</td>\n",
       "      <td>Urban</td>\n",
       "    </tr>\n",
       "  </tbody>\n",
       "</table>\n",
       "</div>"
      ],
      "text/plain": [
       "           city  driver_count   type\n",
       "0   Richardfort            38  Urban\n",
       "1  Williamsstad            59  Urban\n",
       "2   Port Angela            67  Urban"
      ]
     },
     "execution_count": 2,
     "metadata": {},
     "output_type": "execute_result"
    }
   ],
   "source": [
    "# City data\n",
    "city_path = os.path.join('data', 'city_data.csv') # city data path\n",
    "city_df = pd.read_csv(city_path)\n",
    "city_df.head(3)"
   ]
  },
  {
   "cell_type": "code",
   "execution_count": 3,
   "metadata": {
    "tags": []
   },
   "outputs": [
    {
     "name": "stdout",
     "output_type": "stream",
     "text": [
      "<class 'pandas.core.frame.DataFrame'>\n",
      "RangeIndex: 2375 entries, 0 to 2374\n",
      "Data columns (total 4 columns):\n",
      " #   Column   Non-Null Count  Dtype         \n",
      "---  ------   --------------  -----         \n",
      " 0   city     2375 non-null   object        \n",
      " 1   date     2375 non-null   datetime64[ns]\n",
      " 2   fare     2375 non-null   float64       \n",
      " 3   ride_id  2375 non-null   int64         \n",
      "dtypes: datetime64[ns](1), float64(1), int64(1), object(1)\n",
      "memory usage: 74.3+ KB\n",
      "None\n"
     ]
    },
    {
     "data": {
      "text/html": [
       "<div>\n",
       "<style scoped>\n",
       "    .dataframe tbody tr th:only-of-type {\n",
       "        vertical-align: middle;\n",
       "    }\n",
       "\n",
       "    .dataframe tbody tr th {\n",
       "        vertical-align: top;\n",
       "    }\n",
       "\n",
       "    .dataframe thead th {\n",
       "        text-align: right;\n",
       "    }\n",
       "</style>\n",
       "<table border=\"1\" class=\"dataframe\">\n",
       "  <thead>\n",
       "    <tr style=\"text-align: right;\">\n",
       "      <th></th>\n",
       "      <th>city</th>\n",
       "      <th>date</th>\n",
       "      <th>fare</th>\n",
       "      <th>ride_id</th>\n",
       "    </tr>\n",
       "  </thead>\n",
       "  <tbody>\n",
       "    <tr>\n",
       "      <th>0</th>\n",
       "      <td>Lake Jonathanshire</td>\n",
       "      <td>2019-01-14 10:14:22</td>\n",
       "      <td>13.83</td>\n",
       "      <td>5739410935873</td>\n",
       "    </tr>\n",
       "    <tr>\n",
       "      <th>1</th>\n",
       "      <td>South Michelleport</td>\n",
       "      <td>2019-03-04 18:24:09</td>\n",
       "      <td>30.24</td>\n",
       "      <td>2343912425577</td>\n",
       "    </tr>\n",
       "    <tr>\n",
       "      <th>2</th>\n",
       "      <td>Port Samanthamouth</td>\n",
       "      <td>2019-02-24 04:29:00</td>\n",
       "      <td>33.44</td>\n",
       "      <td>2005065760003</td>\n",
       "    </tr>\n",
       "  </tbody>\n",
       "</table>\n",
       "</div>"
      ],
      "text/plain": [
       "                 city                date   fare        ride_id\n",
       "0  Lake Jonathanshire 2019-01-14 10:14:22  13.83  5739410935873\n",
       "1  South Michelleport 2019-03-04 18:24:09  30.24  2343912425577\n",
       "2  Port Samanthamouth 2019-02-24 04:29:00  33.44  2005065760003"
      ]
     },
     "execution_count": 3,
     "metadata": {},
     "output_type": "execute_result"
    }
   ],
   "source": [
    "# Ride data\n",
    "ride_path = os.path.join('data', 'ride_data.csv') # ride data path\n",
    "ride_df = pd.read_csv(ride_path, parse_dates=['date'])\n",
    "ride_df.head(3)"
   ]
  },
  {
   "cell_type": "markdown",
   "metadata": {},
   "source": [
    "### Merge data"
   ]
  },
  {
   "cell_type": "code",
   "execution_count": 5,
   "metadata": {
    "tags": []
   },
   "outputs": [
    {
     "name": "stdout",
     "output_type": "stream",
     "text": [
      "city            0\n",
      "driver_count    0\n",
      "type            0\n",
      "dtype: int64\n",
      "city       0\n",
      "date       0\n",
      "fare       0\n",
      "ride_id    0\n",
      "dtype: int64\n"
     ]
    }
   ],
   "source": [
    "# Check for missing vals in both dfs\n",
    "print(city_df.isnull().sum())\n",
    "ride_df.isnull().sum()"
   ]
  },
  {
   "cell_type": "code",
   "execution_count": 6,
   "metadata": {
    "tags": []
   },
   "outputs": [
    {
     "name": "stdout",
     "output_type": "stream",
     "text": [
      "city            120\n",
      "driver_count     52\n",
      "type              3\n",
      "dtype: int64\n"
     ]
    },
    {
     "data": {
      "text/plain": [
       "city        120\n",
       "date       2375\n",
       "fare       1841\n",
       "ride_id    2375\n",
       "dtype: int64"
      ]
     },
     "execution_count": 6,
     "metadata": {},
     "output_type": "execute_result"
    }
   ],
   "source": [
    "# Check unique vals for each col\n",
    "print(city_df.nunique())\n",
    "ride_df.nunique()"
   ]
  },
  {
   "cell_type": "code",
   "execution_count": 7,
   "metadata": {},
   "outputs": [
    {
     "name": "stdout",
     "output_type": "stream",
     "text": [
      "<class 'pandas.core.frame.DataFrame'>\n",
      "Int64Index: 2375 entries, 0 to 2374\n",
      "Data columns (total 6 columns):\n",
      " #   Column        Non-Null Count  Dtype         \n",
      "---  ------        --------------  -----         \n",
      " 0   city          2375 non-null   object        \n",
      " 1   date          2375 non-null   datetime64[ns]\n",
      " 2   fare          2375 non-null   float64       \n",
      " 3   ride_id       2375 non-null   int64         \n",
      " 4   driver_count  2375 non-null   int64         \n",
      " 5   type          2375 non-null   object        \n",
      "dtypes: datetime64[ns](1), float64(1), int64(2), object(2)\n",
      "memory usage: 129.9+ KB\n"
     ]
    }
   ],
   "source": [
    "# Merge data\n",
    "df = pd.merge(ride_df, city_df, on='city', how='left')\n",
    "df.info()"
   ]
  },
  {
   "cell_type": "code",
   "execution_count": 8,
   "metadata": {},
   "outputs": [
    {
     "data": {
      "text/html": [
       "<div>\n",
       "<style scoped>\n",
       "    .dataframe tbody tr th:only-of-type {\n",
       "        vertical-align: middle;\n",
       "    }\n",
       "\n",
       "    .dataframe tbody tr th {\n",
       "        vertical-align: top;\n",
       "    }\n",
       "\n",
       "    .dataframe thead th {\n",
       "        text-align: right;\n",
       "    }\n",
       "</style>\n",
       "<table border=\"1\" class=\"dataframe\">\n",
       "  <thead>\n",
       "    <tr style=\"text-align: right;\">\n",
       "      <th></th>\n",
       "      <th>city</th>\n",
       "      <th>date</th>\n",
       "      <th>fare</th>\n",
       "      <th>ride_id</th>\n",
       "      <th>driver_count</th>\n",
       "      <th>type</th>\n",
       "    </tr>\n",
       "  </thead>\n",
       "  <tbody>\n",
       "    <tr>\n",
       "      <th>0</th>\n",
       "      <td>Lake Jonathanshire</td>\n",
       "      <td>2019-01-14 10:14:22</td>\n",
       "      <td>13.83</td>\n",
       "      <td>5739410935873</td>\n",
       "      <td>5</td>\n",
       "      <td>Urban</td>\n",
       "    </tr>\n",
       "    <tr>\n",
       "      <th>1</th>\n",
       "      <td>South Michelleport</td>\n",
       "      <td>2019-03-04 18:24:09</td>\n",
       "      <td>30.24</td>\n",
       "      <td>2343912425577</td>\n",
       "      <td>72</td>\n",
       "      <td>Urban</td>\n",
       "    </tr>\n",
       "    <tr>\n",
       "      <th>2</th>\n",
       "      <td>Port Samanthamouth</td>\n",
       "      <td>2019-02-24 04:29:00</td>\n",
       "      <td>33.44</td>\n",
       "      <td>2005065760003</td>\n",
       "      <td>57</td>\n",
       "      <td>Urban</td>\n",
       "    </tr>\n",
       "    <tr>\n",
       "      <th>3</th>\n",
       "      <td>Rodneyfort</td>\n",
       "      <td>2019-02-10 23:22:03</td>\n",
       "      <td>23.44</td>\n",
       "      <td>5149245426178</td>\n",
       "      <td>34</td>\n",
       "      <td>Urban</td>\n",
       "    </tr>\n",
       "    <tr>\n",
       "      <th>4</th>\n",
       "      <td>South Jack</td>\n",
       "      <td>2019-03-06 04:28:35</td>\n",
       "      <td>34.58</td>\n",
       "      <td>3908451377344</td>\n",
       "      <td>46</td>\n",
       "      <td>Urban</td>\n",
       "    </tr>\n",
       "  </tbody>\n",
       "</table>\n",
       "</div>"
      ],
      "text/plain": [
       "                 city                date   fare        ride_id  driver_count  \\\n",
       "0  Lake Jonathanshire 2019-01-14 10:14:22  13.83  5739410935873             5   \n",
       "1  South Michelleport 2019-03-04 18:24:09  30.24  2343912425577            72   \n",
       "2  Port Samanthamouth 2019-02-24 04:29:00  33.44  2005065760003            57   \n",
       "3          Rodneyfort 2019-02-10 23:22:03  23.44  5149245426178            34   \n",
       "4          South Jack 2019-03-06 04:28:35  34.58  3908451377344            46   \n",
       "\n",
       "    type  \n",
       "0  Urban  \n",
       "1  Urban  \n",
       "2  Urban  \n",
       "3  Urban  \n",
       "4  Urban  "
      ]
     },
     "execution_count": 8,
     "metadata": {},
     "output_type": "execute_result"
    }
   ],
   "source": [
    "df.head()"
   ]
  },
  {
   "cell_type": "markdown",
   "metadata": {
    "execution": {
     "iopub.execute_input": "2020-11-01T15:25:58.022821Z",
     "iopub.status.busy": "2020-11-01T15:25:58.022445Z",
     "iopub.status.idle": "2020-11-01T15:25:58.052003Z",
     "shell.execute_reply": "2020-11-01T15:25:58.050343Z",
     "shell.execute_reply.started": "2020-11-01T15:25:58.022776Z"
    }
   },
   "source": [
    "### Ride fare bubble chart with Pandas"
   ]
  },
  {
   "cell_type": "code",
   "execution_count": 16,
   "metadata": {
    "tags": []
   },
   "outputs": [
    {
     "data": {
      "text/html": [
       "<div>\n",
       "<style scoped>\n",
       "    .dataframe tbody tr th:only-of-type {\n",
       "        vertical-align: middle;\n",
       "    }\n",
       "\n",
       "    .dataframe tbody tr th {\n",
       "        vertical-align: top;\n",
       "    }\n",
       "\n",
       "    .dataframe thead th {\n",
       "        text-align: right;\n",
       "    }\n",
       "</style>\n",
       "<table border=\"1\" class=\"dataframe\">\n",
       "  <thead>\n",
       "    <tr style=\"text-align: right;\">\n",
       "      <th></th>\n",
       "      <th>City</th>\n",
       "      <th>City Type</th>\n",
       "      <th>Total Rides</th>\n",
       "      <th>Average Fare ($)</th>\n",
       "      <th>Total Drivers</th>\n",
       "      <th>Total Drivers x5</th>\n",
       "      <th>Color</th>\n",
       "    </tr>\n",
       "  </thead>\n",
       "  <tbody>\n",
       "    <tr>\n",
       "      <th>17</th>\n",
       "      <td>Garzaport</td>\n",
       "      <td>Rural</td>\n",
       "      <td>3</td>\n",
       "      <td>24.123333</td>\n",
       "      <td>7</td>\n",
       "      <td>35</td>\n",
       "      <td>lightcoral</td>\n",
       "    </tr>\n",
       "    <tr>\n",
       "      <th>98</th>\n",
       "      <td>South Saramouth</td>\n",
       "      <td>Rural</td>\n",
       "      <td>4</td>\n",
       "      <td>36.160000</td>\n",
       "      <td>7</td>\n",
       "      <td>35</td>\n",
       "      <td>lightcoral</td>\n",
       "    </tr>\n",
       "    <tr>\n",
       "      <th>57</th>\n",
       "      <td>Newtonview</td>\n",
       "      <td>Rural</td>\n",
       "      <td>4</td>\n",
       "      <td>36.745000</td>\n",
       "      <td>1</td>\n",
       "      <td>5</td>\n",
       "      <td>lightcoral</td>\n",
       "    </tr>\n",
       "  </tbody>\n",
       "</table>\n",
       "</div>"
      ],
      "text/plain": [
       "               City City Type  Total Rides  Average Fare ($)  Total Drivers  \\\n",
       "17        Garzaport     Rural            3         24.123333              7   \n",
       "98  South Saramouth     Rural            4         36.160000              7   \n",
       "57       Newtonview     Rural            4         36.745000              1   \n",
       "\n",
       "    Total Drivers x5       Color  \n",
       "17                35  lightcoral  \n",
       "98                35  lightcoral  \n",
       "57                 5  lightcoral  "
      ]
     },
     "execution_count": 16,
     "metadata": {},
     "output_type": "execute_result"
    }
   ],
   "source": [
    "# Fares and rides by city\n",
    "df_by_city = df.groupby(['city', 'type'], as_index=False) \\\n",
    "               .agg({'ride_id': 'count', 'fare': 'mean', 'driver_count': 'max'}) \\\n",
    "               .sort_values('ride_id')\n",
    "df_by_city.columns = ['City', 'City Type', 'Total Rides', 'Average Fare ($)', 'Total Drivers']\n",
    "df_by_city['Total Drivers x5'] = df_by_city['Total Drivers'] * 5\n",
    "\n",
    "# Assign a color to each city type\n",
    "type_colors = {'Rural': 'lightcoral', 'Suburban': 'limegreen', 'Urban': 'skyblue'}\n",
    "df_by_city['Color'] = df_by_city['City Type'].map(type_colors)\n",
    "df_by_city.head(3)"
   ]
  },
  {
   "cell_type": "code",
   "execution_count": 36,
   "metadata": {
    "tags": []
   },
   "outputs": [
    {
     "data": {
      "image/png": "[encoded data removed]",
      "text/plain": [
       "<Figure size 864x288 with 1 Axes>"
      ]
     },
     "metadata": {},
     "output_type": "display_data"
    }
   ],
   "source": [
    "# Bubble chart\n",
    "bubble = df_by_city.plot(x='Total Rides', y='Average Fare ($)', s='Total Drivers x5', c='Color',\n",
    "                         edgecolor='black', alpha=0.9, kind='scatter', figsize=(12, 4))\n",
    "plt.legend(title='City Type',\n",
    "           handles=[mpl.patches.Patch(color=col, label=lab) for lab, col in type_colors.items()])\n",
    "\n",
    "# Annotation\n",
    "fontdict = dict(size=15, weight='bold')\n",
    "plt.text(41, 34, 'Note:', fontdict=fontdict)\n",
    "plt.text(41, 25, (\n",
    "    'Each data point is\\n'\n",
    "    'a city and its size\\n'\n",
    "    'represents the\\n'\n",
    "    'number of drivers\\n'\n",
    "    'in that city'))\n",
    "\n",
    "plt.show()"
   ]
  },
  {
   "cell_type": "code",
   "execution_count": 52,
   "metadata": {
    "tags": []
   },
   "outputs": [],
   "source": [
    "# Save bubble plot\n",
    "bubble.get_figure().savefig('analysis/pdbubble.png')"
   ]
  },
  {
   "cell_type": "markdown",
   "metadata": {},
   "source": [
    "### Ride fare bubble chart with Matplotlib"
   ]
  },
  {
   "cell_type": "code",
   "execution_count": 42,
   "metadata": {},
   "outputs": [
    {
     "data": {
      "text/plain": [
       "((18, 7), (36, 7), (66, 7))"
      ]
     },
     "execution_count": 42,
     "metadata": {},
     "output_type": "execute_result"
    }
   ],
   "source": [
    "# Split data by city type\n",
    "rural_df = df_by_city[df_by_city['City Type'] == 'Rural'].copy()\n",
    "suburban_df = df_by_city[df_by_city['City Type'] == 'Suburban'].copy()\n",
    "urban_df = df_by_city[df_by_city['City Type'] == 'Urban'].copy()\n",
    "rural_df.shape, suburban_df.shape, urban_df.shape"
   ]
  },
  {
   "cell_type": "code",
   "execution_count": 50,
   "metadata": {
    "tags": []
   },
   "outputs": [
    {
     "data": {
      "image/png": "[encoded data removed]",
      "text/plain": [
       "<Figure size 864x288 with 1 Axes>"
      ]
     },
     "metadata": {},
     "output_type": "display_data"
    }
   ],
   "source": [
    "# Bubble chart\n",
    "bubble2 = plt.figure(figsize=(12, 4))\n",
    "plt.scatter(data=rural_df, x='Total Rides', y='Average Fare ($)', s='Total Drivers x5', \n",
    "            c='lightcoral', edgecolor='black', alpha=0.9, label='Rural')\n",
    "plt.scatter(data=suburban_df, x='Total Rides', y='Average Fare ($)', s='Total Drivers x5', \n",
    "            c='limegreen', edgecolor='black', alpha=0.9, label='Suburban')\n",
    "plt.scatter(data=urban_df, x='Total Rides', y='Average Fare ($)', s='Total Drivers x5', \n",
    "            c='skyblue', edgecolor='black', alpha=0.9, label='Urban')\n",
    "\n",
    "# Annotation\n",
    "plt.ylabel('Average Fare ($)')\n",
    "plt.xlabel('Total Rides')\n",
    "plt.text(41, 34, 'Note:', fontdict=fontdict)\n",
    "plt.text(41, 25, (\n",
    "    'Each data point is\\n'\n",
    "    'a city and its size\\n'\n",
    "    'represents the\\n'\n",
    "    'number of drivers\\n'\n",
    "    'in that city'))\n",
    "\n",
    "# Legend\n",
    "lgnd = plt.legend(title='City Type', mode='Expanded', scatterpoints=1)\n",
    "lgnd.get_title().set_fontsize(15)\n",
    "for i in range(3):\n",
    "    lgnd.legendHandles[i]._sizes = [100]\n",
    "plt.show()"
   ]
  },
  {
   "cell_type": "code",
   "execution_count": 51,
   "metadata": {
    "tags": []
   },
   "outputs": [],
   "source": [
    "bubble2.savefig('analysis/pltbubble.png')"
   ]
  },
  {
   "cell_type": "markdown",
   "metadata": {},
   "source": [
    "### City type box plots"
   ]
  },
  {
   "cell_type": "code",
   "execution_count": 14,
   "metadata": {
    "execution": {
     "iopub.execute_input": "2020-11-02T22:22:43.305304Z",
     "iopub.status.busy": "2020-11-02T22:22:43.305017Z",
     "iopub.status.idle": "2020-11-02T22:22:43.345884Z",
     "shell.execute_reply": "2020-11-02T22:22:43.343992Z",
     "shell.execute_reply.started": "2020-11-02T22:22:43.305279Z"
    }
   },
   "outputs": [
    {
     "data": {
      "text/html": [
       "<div>\n",
       "<style scoped>\n",
       "    .dataframe tbody tr th:only-of-type {\n",
       "        vertical-align: middle;\n",
       "    }\n",
       "\n",
       "    .dataframe tbody tr th {\n",
       "        vertical-align: top;\n",
       "    }\n",
       "\n",
       "    .dataframe thead th {\n",
       "        text-align: right;\n",
       "    }\n",
       "</style>\n",
       "<table border=\"1\" class=\"dataframe\">\n",
       "  <thead>\n",
       "    <tr style=\"text-align: right;\">\n",
       "      <th></th>\n",
       "      <th>City</th>\n",
       "      <th>Total Rides (per city)</th>\n",
       "      <th>Average Fare ($)</th>\n",
       "      <th>Total Drivers (per city)</th>\n",
       "      <th>City Type</th>\n",
       "      <th>Total Drivers / 5</th>\n",
       "      <th>Color</th>\n",
       "    </tr>\n",
       "  </thead>\n",
       "  <tbody>\n",
       "    <tr>\n",
       "      <th>0</th>\n",
       "      <td>Garzaport</td>\n",
       "      <td>3</td>\n",
       "      <td>24.123333</td>\n",
       "      <td>7</td>\n",
       "      <td>Rural</td>\n",
       "      <td>35</td>\n",
       "      <td>lightcoral</td>\n",
       "    </tr>\n",
       "    <tr>\n",
       "      <th>3</th>\n",
       "      <td>South Saramouth</td>\n",
       "      <td>4</td>\n",
       "      <td>36.160000</td>\n",
       "      <td>7</td>\n",
       "      <td>Rural</td>\n",
       "      <td>35</td>\n",
       "      <td>lightcoral</td>\n",
       "    </tr>\n",
       "    <tr>\n",
       "      <th>7</th>\n",
       "      <td>Newtonview</td>\n",
       "      <td>4</td>\n",
       "      <td>36.745000</td>\n",
       "      <td>1</td>\n",
       "      <td>Rural</td>\n",
       "      <td>5</td>\n",
       "      <td>lightcoral</td>\n",
       "    </tr>\n",
       "    <tr>\n",
       "      <th>11</th>\n",
       "      <td>Randallchester</td>\n",
       "      <td>5</td>\n",
       "      <td>29.742000</td>\n",
       "      <td>9</td>\n",
       "      <td>Rural</td>\n",
       "      <td>45</td>\n",
       "      <td>lightcoral</td>\n",
       "    </tr>\n",
       "    <tr>\n",
       "      <th>16</th>\n",
       "      <td>Penaborough</td>\n",
       "      <td>5</td>\n",
       "      <td>35.246000</td>\n",
       "      <td>6</td>\n",
       "      <td>Rural</td>\n",
       "      <td>30</td>\n",
       "      <td>lightcoral</td>\n",
       "    </tr>\n",
       "    <tr>\n",
       "      <th>...</th>\n",
       "      <td>...</td>\n",
       "      <td>...</td>\n",
       "      <td>...</td>\n",
       "      <td>...</td>\n",
       "      <td>...</td>\n",
       "      <td>...</td>\n",
       "      <td>...</td>\n",
       "    </tr>\n",
       "    <tr>\n",
       "      <th>2197</th>\n",
       "      <td>Liumouth</td>\n",
       "      <td>33</td>\n",
       "      <td>26.150000</td>\n",
       "      <td>69</td>\n",
       "      <td>Urban</td>\n",
       "      <td>345</td>\n",
       "      <td>skyblue</td>\n",
       "    </tr>\n",
       "    <tr>\n",
       "      <th>2230</th>\n",
       "      <td>Port Frank</td>\n",
       "      <td>33</td>\n",
       "      <td>27.201515</td>\n",
       "      <td>23</td>\n",
       "      <td>Urban</td>\n",
       "      <td>115</td>\n",
       "      <td>skyblue</td>\n",
       "    </tr>\n",
       "    <tr>\n",
       "      <th>2263</th>\n",
       "      <td>North Jason</td>\n",
       "      <td>35</td>\n",
       "      <td>22.743714</td>\n",
       "      <td>6</td>\n",
       "      <td>Urban</td>\n",
       "      <td>30</td>\n",
       "      <td>skyblue</td>\n",
       "    </tr>\n",
       "    <tr>\n",
       "      <th>2298</th>\n",
       "      <td>South Karenland</td>\n",
       "      <td>38</td>\n",
       "      <td>26.535526</td>\n",
       "      <td>4</td>\n",
       "      <td>Urban</td>\n",
       "      <td>20</td>\n",
       "      <td>skyblue</td>\n",
       "    </tr>\n",
       "    <tr>\n",
       "      <th>2336</th>\n",
       "      <td>West Angela</td>\n",
       "      <td>39</td>\n",
       "      <td>25.990000</td>\n",
       "      <td>48</td>\n",
       "      <td>Urban</td>\n",
       "      <td>240</td>\n",
       "      <td>skyblue</td>\n",
       "    </tr>\n",
       "  </tbody>\n",
       "</table>\n",
       "<p>120 rows × 7 columns</p>\n",
       "</div>"
      ],
      "text/plain": [
       "                 City  Total Rides (per city)  Average Fare ($)  \\\n",
       "0           Garzaport                       3         24.123333   \n",
       "3     South Saramouth                       4         36.160000   \n",
       "7          Newtonview                       4         36.745000   \n",
       "11     Randallchester                       5         29.742000   \n",
       "16        Penaborough                       5         35.246000   \n",
       "...               ...                     ...               ...   \n",
       "2197         Liumouth                      33         26.150000   \n",
       "2230       Port Frank                      33         27.201515   \n",
       "2263      North Jason                      35         22.743714   \n",
       "2298  South Karenland                      38         26.535526   \n",
       "2336      West Angela                      39         25.990000   \n",
       "\n",
       "      Total Drivers (per city) City Type  Total Drivers / 5       Color  \n",
       "0                            7     Rural                 35  lightcoral  \n",
       "3                            7     Rural                 35  lightcoral  \n",
       "7                            1     Rural                  5  lightcoral  \n",
       "11                           9     Rural                 45  lightcoral  \n",
       "16                           6     Rural                 30  lightcoral  \n",
       "...                        ...       ...                ...         ...  \n",
       "2197                        69     Urban                345     skyblue  \n",
       "2230                        23     Urban                115     skyblue  \n",
       "2263                         6     Urban                 30     skyblue  \n",
       "2298                         4     Urban                 20     skyblue  \n",
       "2336                        48     Urban                240     skyblue  \n",
       "\n",
       "[120 rows x 7 columns]"
      ]
     },
     "execution_count": 14,
     "metadata": {},
     "output_type": "execute_result"
    }
   ],
   "source": [
    "by_city"
   ]
  },
  {
   "cell_type": "code",
   "execution_count": 15,
   "metadata": {
    "execution": {
     "iopub.execute_input": "2020-11-02T22:22:43.348102Z",
     "iopub.status.busy": "2020-11-02T22:22:43.347590Z",
     "iopub.status.idle": "2020-11-02T22:22:43.763597Z",
     "shell.execute_reply": "2020-11-02T22:22:43.762833Z",
     "shell.execute_reply.started": "2020-11-02T22:22:43.348036Z"
    }
   },
   "outputs": [
    {
     "data": {
      "image/png": "[encoded data removed]",
      "text/plain": [
       "<Figure size 1152x288 with 3 Axes>"
      ]
     },
     "metadata": {
      "needs_background": "light"
     },
     "output_type": "display_data"
    }
   ],
   "source": [
    "# Columns to plot and unique city types\n",
    "box_cols = ['Total Rides (per city)', 'Average Fare ($)', 'Total Drivers (per city)']\n",
    "city_types = by_city['City Type'].unique()\n",
    "\n",
    "fig, ax = plt.subplots(1, 3, figsize=(16, 4))\n",
    "fig.suptitle('Ride Data (2019)', fontsize=16)\n",
    "for i in range(3):\n",
    "    by_types = [by_city.loc[by_city['City Type'] == ctype, box_cols[i]] for ctype in city_types]\n",
    "    ax[i].boxplot(by_types, labels=city_types)\n",
    "    ax[i].set_ylabel(box_cols[i], fontsize=12)\n",
    "    ax[i].set_xlabel('City Type', fontsize=12)\n",
    "    ax[i].grid()\n",
    "plt.show()"
   ]
  },
  {
   "cell_type": "code",
   "execution_count": 16,
   "metadata": {
    "execution": {
     "iopub.execute_input": "2020-11-02T22:22:43.765443Z",
     "iopub.status.busy": "2020-11-02T22:22:43.764960Z",
     "iopub.status.idle": "2020-11-02T22:22:44.072493Z",
     "shell.execute_reply": "2020-11-02T22:22:44.071694Z",
     "shell.execute_reply.started": "2020-11-02T22:22:43.765413Z"
    }
   },
   "outputs": [],
   "source": [
    "fig.savefig('analysis/boxes.png')"
   ]
  },
  {
   "cell_type": "markdown",
   "metadata": {
    "execution": {
     "iopub.execute_input": "2020-11-01T17:12:13.887678Z",
     "iopub.status.busy": "2020-11-01T17:12:13.887419Z",
     "iopub.status.idle": "2020-11-01T17:12:13.892996Z",
     "shell.execute_reply": "2020-11-01T17:12:13.891428Z",
     "shell.execute_reply.started": "2020-11-01T17:12:13.887650Z"
    }
   },
   "source": [
    "### City type pie charts"
   ]
  },
  {
   "cell_type": "code",
   "execution_count": 17,
   "metadata": {
    "execution": {
     "iopub.execute_input": "2020-11-02T22:22:44.074084Z",
     "iopub.status.busy": "2020-11-02T22:22:44.073792Z",
     "iopub.status.idle": "2020-11-02T22:22:44.112795Z",
     "shell.execute_reply": "2020-11-02T22:22:44.111913Z",
     "shell.execute_reply.started": "2020-11-02T22:22:44.074053Z"
    }
   },
   "outputs": [
    {
     "data": {
      "text/html": [
       "<div>\n",
       "<style scoped>\n",
       "    .dataframe tbody tr th:only-of-type {\n",
       "        vertical-align: middle;\n",
       "    }\n",
       "\n",
       "    .dataframe tbody tr th {\n",
       "        vertical-align: top;\n",
       "    }\n",
       "\n",
       "    .dataframe thead th {\n",
       "        text-align: right;\n",
       "    }\n",
       "</style>\n",
       "<table border=\"1\" class=\"dataframe\">\n",
       "  <thead>\n",
       "    <tr style=\"text-align: right;\">\n",
       "      <th></th>\n",
       "      <th>City Type</th>\n",
       "      <th>Total Rides</th>\n",
       "      <th>Total Fare</th>\n",
       "      <th>Total Drivers</th>\n",
       "      <th>Color</th>\n",
       "    </tr>\n",
       "  </thead>\n",
       "  <tbody>\n",
       "    <tr>\n",
       "      <th>0</th>\n",
       "      <td>Rural</td>\n",
       "      <td>125</td>\n",
       "      <td>4327.93</td>\n",
       "      <td>537</td>\n",
       "      <td>lightcoral</td>\n",
       "    </tr>\n",
       "    <tr>\n",
       "      <th>1</th>\n",
       "      <td>Suburban</td>\n",
       "      <td>625</td>\n",
       "      <td>19356.33</td>\n",
       "      <td>8570</td>\n",
       "      <td>limegreen</td>\n",
       "    </tr>\n",
       "    <tr>\n",
       "      <th>2</th>\n",
       "      <td>Urban</td>\n",
       "      <td>1625</td>\n",
       "      <td>39854.38</td>\n",
       "      <td>59602</td>\n",
       "      <td>skyblue</td>\n",
       "    </tr>\n",
       "  </tbody>\n",
       "</table>\n",
       "</div>"
      ],
      "text/plain": [
       "  City Type  Total Rides  Total Fare  Total Drivers       Color\n",
       "0     Rural          125     4327.93            537  lightcoral\n",
       "1  Suburban          625    19356.33           8570   limegreen\n",
       "2     Urban         1625    39854.38          59602     skyblue"
      ]
     },
     "execution_count": 17,
     "metadata": {},
     "output_type": "execute_result"
    }
   ],
   "source": [
    "# Fares and rides by city type\n",
    "by_city_type = df.groupby('type', as_index=False).agg({'ride_id': 'count', 'fare': 'sum', 'driver_count': 'sum'}).sort_values('ride_id')\n",
    "by_city_type.columns = ['City Type', 'Total Rides', 'Total Fare', 'Total Drivers']\n",
    "by_city_type['Color'] = by_city_type['City Type'].map(type_colors)\n",
    "by_city_type"
   ]
  },
  {
   "cell_type": "code",
   "execution_count": 18,
   "metadata": {
    "execution": {
     "iopub.execute_input": "2020-11-02T22:22:44.114739Z",
     "iopub.status.busy": "2020-11-02T22:22:44.114276Z",
     "iopub.status.idle": "2020-11-02T22:22:44.471874Z",
     "shell.execute_reply": "2020-11-02T22:22:44.471186Z",
     "shell.execute_reply.started": "2020-11-02T22:22:44.114693Z"
    }
   },
   "outputs": [
    {
     "data": {
      "image/png": "[encoded data removed]",
      "text/plain": [
       "<Figure size 1152x288 with 3 Axes>"
      ]
     },
     "metadata": {},
     "output_type": "display_data"
    }
   ],
   "source": [
    "# Pie charts\n",
    "mpl.rcParams['font.size'] = 12\n",
    "fig, ax = plt.subplots(1, 3, figsize=(16, 4))\n",
    "ax[0].pie(x=by_city_type['Total Fare'], labels=by_city_type['City Type'], colors=by_city_type['Color'],\n",
    "          startangle=150, autopct='%.2f%%', explode=[0, 0, 0.15], shadow=True)\n",
    "ax[0].set_title('Total Fare by City Type', fontsize=16)\n",
    "ax[1].pie(x=by_city_type['Total Rides'], labels=by_city_type['City Type'], colors=by_city_type['Color'],\n",
    "          startangle=150, autopct='%.2f%%', explode=[0, 0, 0.15], shadow=True)\n",
    "ax[1].set_title('Total Rides by City Type', fontsize=16)\n",
    "ax[2].pie(x=by_city_type['Total Drivers'], labels=by_city_type['City Type'], colors=by_city_type['Color'],\n",
    "          startangle=150, autopct='%.2f%%', explode=[0, 0, 0.15], shadow=True)\n",
    "ax[2].set_title('Total Drivers by City Type', fontsize=16)\n",
    "plt.show()"
   ]
  },
  {
   "cell_type": "code",
   "execution_count": 19,
   "metadata": {
    "execution": {
     "iopub.execute_input": "2020-11-02T22:22:44.473647Z",
     "iopub.status.busy": "2020-11-02T22:22:44.473084Z",
     "iopub.status.idle": "2020-11-02T22:22:44.778982Z",
     "shell.execute_reply": "2020-11-02T22:22:44.778161Z",
     "shell.execute_reply.started": "2020-11-02T22:22:44.473607Z"
    }
   },
   "outputs": [],
   "source": [
    "fig.savefig('analysis/pies.png')"
   ]
  },
  {
   "cell_type": "markdown",
   "metadata": {},
   "source": [
    "### City type summary"
   ]
  },
  {
   "cell_type": "code",
   "execution_count": 20,
   "metadata": {
    "execution": {
     "iopub.execute_input": "2020-11-02T22:22:44.781646Z",
     "iopub.status.busy": "2020-11-02T22:22:44.781196Z",
     "iopub.status.idle": "2020-11-02T22:22:44.830181Z",
     "shell.execute_reply": "2020-11-02T22:22:44.828743Z",
     "shell.execute_reply.started": "2020-11-02T22:22:44.781602Z"
    }
   },
   "outputs": [
    {
     "data": {
      "text/html": [
       "<div>\n",
       "<style scoped>\n",
       "    .dataframe tbody tr th:only-of-type {\n",
       "        vertical-align: middle;\n",
       "    }\n",
       "\n",
       "    .dataframe tbody tr th {\n",
       "        vertical-align: top;\n",
       "    }\n",
       "\n",
       "    .dataframe thead th {\n",
       "        text-align: right;\n",
       "    }\n",
       "</style>\n",
       "<table border=\"1\" class=\"dataframe\">\n",
       "  <thead>\n",
       "    <tr style=\"text-align: right;\">\n",
       "      <th></th>\n",
       "      <th>City</th>\n",
       "      <th>Total Rides (per city)</th>\n",
       "      <th>Average Fare ($)</th>\n",
       "      <th>Total Drivers (per city)</th>\n",
       "      <th>City Type</th>\n",
       "      <th>Total Drivers / 5</th>\n",
       "      <th>Color</th>\n",
       "      <th>Total Fare ($)</th>\n",
       "    </tr>\n",
       "  </thead>\n",
       "  <tbody>\n",
       "    <tr>\n",
       "      <th>0</th>\n",
       "      <td>Garzaport</td>\n",
       "      <td>3</td>\n",
       "      <td>24.123333</td>\n",
       "      <td>7</td>\n",
       "      <td>Rural</td>\n",
       "      <td>35</td>\n",
       "      <td>lightcoral</td>\n",
       "      <td>72.37</td>\n",
       "    </tr>\n",
       "    <tr>\n",
       "      <th>1</th>\n",
       "      <td>South Saramouth</td>\n",
       "      <td>4</td>\n",
       "      <td>36.160000</td>\n",
       "      <td>7</td>\n",
       "      <td>Rural</td>\n",
       "      <td>35</td>\n",
       "      <td>lightcoral</td>\n",
       "      <td>144.64</td>\n",
       "    </tr>\n",
       "  </tbody>\n",
       "</table>\n",
       "</div>"
      ],
      "text/plain": [
       "              City  Total Rides (per city)  Average Fare ($)  \\\n",
       "0        Garzaport                       3         24.123333   \n",
       "1  South Saramouth                       4         36.160000   \n",
       "\n",
       "   Total Drivers (per city) City Type  Total Drivers / 5       Color  \\\n",
       "0                         7     Rural                 35  lightcoral   \n",
       "1                         7     Rural                 35  lightcoral   \n",
       "\n",
       "   Total Fare ($)  \n",
       "0           72.37  \n",
       "1          144.64  "
      ]
     },
     "execution_count": 20,
     "metadata": {},
     "output_type": "execute_result"
    }
   ],
   "source": [
    "# Add total fare feature\n",
    "fare_by_city = df.groupby('city', as_index=False).fare.sum()\n",
    "fare_by_city.columns = ['City', 'Total Fare ($)']\n",
    "by_city = pd.merge(by_city, fare_by_city, on='City', how='left')\n",
    "by_city.head(2)"
   ]
  },
  {
   "cell_type": "code",
   "execution_count": 28,
   "metadata": {
    "execution": {
     "iopub.execute_input": "2020-11-02T22:26:24.322587Z",
     "iopub.status.busy": "2020-11-02T22:26:24.316747Z",
     "iopub.status.idle": "2020-11-02T22:26:24.361230Z",
     "shell.execute_reply": "2020-11-02T22:26:24.359078Z",
     "shell.execute_reply.started": "2020-11-02T22:26:24.322511Z"
    }
   },
   "outputs": [
    {
     "data": {
      "text/html": [
       "<div>\n",
       "<style scoped>\n",
       "    .dataframe tbody tr th:only-of-type {\n",
       "        vertical-align: middle;\n",
       "    }\n",
       "\n",
       "    .dataframe tbody tr th {\n",
       "        vertical-align: top;\n",
       "    }\n",
       "\n",
       "    .dataframe thead th {\n",
       "        text-align: right;\n",
       "    }\n",
       "</style>\n",
       "<table border=\"1\" class=\"dataframe\">\n",
       "  <thead>\n",
       "    <tr style=\"text-align: right;\">\n",
       "      <th></th>\n",
       "      <th>Total Rides</th>\n",
       "      <th>Total Drivers</th>\n",
       "      <th>Total Fares ($)</th>\n",
       "      <th>Average Fare Per Ride ($)</th>\n",
       "      <th>Average Fare Per Driver ($)</th>\n",
       "      <th>Average Rides (per city)</th>\n",
       "      <th>Average Drivers (per city)</th>\n",
       "    </tr>\n",
       "    <tr>\n",
       "      <th>City Type</th>\n",
       "      <th></th>\n",
       "      <th></th>\n",
       "      <th></th>\n",
       "      <th></th>\n",
       "      <th></th>\n",
       "      <th></th>\n",
       "      <th></th>\n",
       "    </tr>\n",
       "  </thead>\n",
       "  <tbody>\n",
       "    <tr>\n",
       "      <th>Rural</th>\n",
       "      <td>125</td>\n",
       "      <td>78</td>\n",
       "      <td>4327.93</td>\n",
       "      <td>34.623440</td>\n",
       "      <td>55.486282</td>\n",
       "      <td>6.944444</td>\n",
       "      <td>4.333333</td>\n",
       "    </tr>\n",
       "    <tr>\n",
       "      <th>Suburban</th>\n",
       "      <td>625</td>\n",
       "      <td>490</td>\n",
       "      <td>19356.33</td>\n",
       "      <td>30.970128</td>\n",
       "      <td>39.502714</td>\n",
       "      <td>17.361111</td>\n",
       "      <td>13.611111</td>\n",
       "    </tr>\n",
       "    <tr>\n",
       "      <th>Urban</th>\n",
       "      <td>1625</td>\n",
       "      <td>2405</td>\n",
       "      <td>39854.38</td>\n",
       "      <td>24.525772</td>\n",
       "      <td>16.571468</td>\n",
       "      <td>24.621212</td>\n",
       "      <td>36.439394</td>\n",
       "    </tr>\n",
       "  </tbody>\n",
       "</table>\n",
       "</div>"
      ],
      "text/plain": [
       "           Total Rides  Total Drivers  Total Fares ($)  \\\n",
       "City Type                                                \n",
       "Rural              125             78          4327.93   \n",
       "Suburban           625            490         19356.33   \n",
       "Urban             1625           2405         39854.38   \n",
       "\n",
       "           Average Fare Per Ride ($)  Average Fare Per Driver ($)  \\\n",
       "City Type                                                           \n",
       "Rural                      34.623440                    55.486282   \n",
       "Suburban                   30.970128                    39.502714   \n",
       "Urban                      24.525772                    16.571468   \n",
       "\n",
       "           Average Rides (per city)  Average Drivers (per city)  \n",
       "City Type                                                        \n",
       "Rural                      6.944444                    4.333333  \n",
       "Suburban                  17.361111                   13.611111  \n",
       "Urban                     24.621212                   36.439394  "
      ]
     },
     "execution_count": 28,
     "metadata": {},
     "output_type": "execute_result"
    }
   ],
   "source": [
    "# Totals by city type\n",
    "by_city_type = by_city.groupby('City Type')[['Total Rides (per city)', 'Total Drivers (per city)', 'Total Fare ($)']].sum()\n",
    "by_city_type.columns = ['Total Rides', 'Total Drivers', 'Total Fares ($)']\n",
    "\n",
    "# Add averages by city type\n",
    "by_city_type['Average Fare Per Ride ($)'] = by_city_type['Total Fares ($)'] / by_city_type['Total Rides']\n",
    "by_city_type['Average Fare Per Driver ($)'] = by_city_type['Total Fares ($)'] / by_city_type['Total Drivers']\n",
    "by_city_type[['Average Rides (per city)', 'Average Drivers (per city)']] = by_city.groupby('City Type')[['Total Rides (per city)', 'Total Drivers (per city)']].mean()\n",
    "by_city_type"
   ]
  },
  {
   "cell_type": "code",
   "execution_count": 29,
   "metadata": {
    "execution": {
     "iopub.execute_input": "2020-11-02T22:26:24.998985Z",
     "iopub.status.busy": "2020-11-02T22:26:24.996996Z",
     "iopub.status.idle": "2020-11-02T22:26:25.023988Z",
     "shell.execute_reply": "2020-11-02T22:26:25.022703Z",
     "shell.execute_reply.started": "2020-11-02T22:26:24.998853Z"
    }
   },
   "outputs": [
    {
     "data": {
      "text/html": [
       "<div>\n",
       "<style scoped>\n",
       "    .dataframe tbody tr th:only-of-type {\n",
       "        vertical-align: middle;\n",
       "    }\n",
       "\n",
       "    .dataframe tbody tr th {\n",
       "        vertical-align: top;\n",
       "    }\n",
       "\n",
       "    .dataframe thead th {\n",
       "        text-align: right;\n",
       "    }\n",
       "</style>\n",
       "<table border=\"1\" class=\"dataframe\">\n",
       "  <thead>\n",
       "    <tr style=\"text-align: right;\">\n",
       "      <th></th>\n",
       "      <th>Total Rides</th>\n",
       "      <th>Total Drivers</th>\n",
       "      <th>Total Fares ($)</th>\n",
       "      <th>Average Fare Per Ride ($)</th>\n",
       "      <th>Average Fare Per Driver ($)</th>\n",
       "      <th>Average Rides (per city)</th>\n",
       "      <th>Average Drivers (per city)</th>\n",
       "    </tr>\n",
       "  </thead>\n",
       "  <tbody>\n",
       "    <tr>\n",
       "      <th>Rural</th>\n",
       "      <td>125</td>\n",
       "      <td>78</td>\n",
       "      <td>$ 4,327.93</td>\n",
       "      <td>$ 34.62</td>\n",
       "      <td>$ 55.49</td>\n",
       "      <td>7</td>\n",
       "      <td>4</td>\n",
       "    </tr>\n",
       "    <tr>\n",
       "      <th>Suburban</th>\n",
       "      <td>625</td>\n",
       "      <td>490</td>\n",
       "      <td>$ 19,356.33</td>\n",
       "      <td>$ 30.97</td>\n",
       "      <td>$ 39.50</td>\n",
       "      <td>17</td>\n",
       "      <td>14</td>\n",
       "    </tr>\n",
       "    <tr>\n",
       "      <th>Urban</th>\n",
       "      <td>1,625</td>\n",
       "      <td>2,405</td>\n",
       "      <td>$ 39,854.38</td>\n",
       "      <td>$ 24.53</td>\n",
       "      <td>$ 16.57</td>\n",
       "      <td>25</td>\n",
       "      <td>36</td>\n",
       "    </tr>\n",
       "  </tbody>\n",
       "</table>\n",
       "</div>"
      ],
      "text/plain": [
       "         Total Rides Total Drivers Total Fares ($) Average Fare Per Ride ($)  \\\n",
       "Rural            125            78      $ 4,327.93                   $ 34.62   \n",
       "Suburban         625           490     $ 19,356.33                   $ 30.97   \n",
       "Urban          1,625         2,405     $ 39,854.38                   $ 24.53   \n",
       "\n",
       "         Average Fare Per Driver ($)  Average Rides (per city)  \\\n",
       "Rural                        $ 55.49                         7   \n",
       "Suburban                     $ 39.50                        17   \n",
       "Urban                        $ 16.57                        25   \n",
       "\n",
       "          Average Drivers (per city)  \n",
       "Rural                              4  \n",
       "Suburban                          14  \n",
       "Urban                             36  "
      ]
     },
     "execution_count": 29,
     "metadata": {},
     "output_type": "execute_result"
    }
   ],
   "source": [
    "# Format summary\n",
    "by_city_type.index.name = None\n",
    "for col in by_city_type.columns:\n",
    "    if 'per city' in col:\n",
    "        by_city_type[col] = by_city_type[col].round(0).astype(int)\n",
    "    elif '$' in col:\n",
    "        by_city_type[col] = by_city_type[col].map('$ {:,.2f}'.format)\n",
    "    else:\n",
    "        by_city_type[col] = by_city_type[col].map('{:,}'.format)\n",
    "        \n",
    "by_city_type"
   ]
  },
  {
   "cell_type": "markdown",
   "metadata": {},
   "source": [
    "### Weekly total fares by city type"
   ]
  },
  {
   "cell_type": "code",
   "execution_count": 35,
   "metadata": {
    "execution": {
     "iopub.execute_input": "2020-11-02T22:30:44.224146Z",
     "iopub.status.busy": "2020-11-02T22:30:44.223783Z",
     "iopub.status.idle": "2020-11-02T22:30:44.248440Z",
     "shell.execute_reply": "2020-11-02T22:30:44.247203Z",
     "shell.execute_reply.started": "2020-11-02T22:30:44.224115Z"
    }
   },
   "outputs": [
    {
     "data": {
      "text/html": [
       "<div>\n",
       "<style scoped>\n",
       "    .dataframe tbody tr th:only-of-type {\n",
       "        vertical-align: middle;\n",
       "    }\n",
       "\n",
       "    .dataframe tbody tr th {\n",
       "        vertical-align: top;\n",
       "    }\n",
       "\n",
       "    .dataframe thead th {\n",
       "        text-align: right;\n",
       "    }\n",
       "</style>\n",
       "<table border=\"1\" class=\"dataframe\">\n",
       "  <thead>\n",
       "    <tr style=\"text-align: right;\">\n",
       "      <th>type</th>\n",
       "      <th>Rural</th>\n",
       "      <th>Suburban</th>\n",
       "      <th>Urban</th>\n",
       "    </tr>\n",
       "    <tr>\n",
       "      <th>date</th>\n",
       "      <th></th>\n",
       "      <th></th>\n",
       "      <th></th>\n",
       "    </tr>\n",
       "  </thead>\n",
       "  <tbody>\n",
       "    <tr>\n",
       "      <th>2019-01-01 00:08:16</th>\n",
       "      <td>0.0</td>\n",
       "      <td>0.00</td>\n",
       "      <td>37.91</td>\n",
       "    </tr>\n",
       "    <tr>\n",
       "      <th>2019-01-01 00:46:46</th>\n",
       "      <td>0.0</td>\n",
       "      <td>47.74</td>\n",
       "      <td>0.00</td>\n",
       "    </tr>\n",
       "    <tr>\n",
       "      <th>2019-01-01 02:07:24</th>\n",
       "      <td>0.0</td>\n",
       "      <td>24.07</td>\n",
       "      <td>0.00</td>\n",
       "    </tr>\n",
       "    <tr>\n",
       "      <th>2019-01-01 03:46:50</th>\n",
       "      <td>0.0</td>\n",
       "      <td>0.00</td>\n",
       "      <td>7.57</td>\n",
       "    </tr>\n",
       "    <tr>\n",
       "      <th>2019-01-01 05:23:21</th>\n",
       "      <td>0.0</td>\n",
       "      <td>0.00</td>\n",
       "      <td>10.75</td>\n",
       "    </tr>\n",
       "    <tr>\n",
       "      <th>...</th>\n",
       "      <td>...</td>\n",
       "      <td>...</td>\n",
       "      <td>...</td>\n",
       "    </tr>\n",
       "    <tr>\n",
       "      <th>2019-05-08 04:20:00</th>\n",
       "      <td>0.0</td>\n",
       "      <td>0.00</td>\n",
       "      <td>21.99</td>\n",
       "    </tr>\n",
       "    <tr>\n",
       "      <th>2019-05-08 04:39:49</th>\n",
       "      <td>0.0</td>\n",
       "      <td>0.00</td>\n",
       "      <td>18.45</td>\n",
       "    </tr>\n",
       "    <tr>\n",
       "      <th>2019-05-08 07:29:01</th>\n",
       "      <td>0.0</td>\n",
       "      <td>0.00</td>\n",
       "      <td>18.55</td>\n",
       "    </tr>\n",
       "    <tr>\n",
       "      <th>2019-05-08 11:38:35</th>\n",
       "      <td>0.0</td>\n",
       "      <td>0.00</td>\n",
       "      <td>19.77</td>\n",
       "    </tr>\n",
       "    <tr>\n",
       "      <th>2019-05-08 13:10:18</th>\n",
       "      <td>0.0</td>\n",
       "      <td>0.00</td>\n",
       "      <td>18.04</td>\n",
       "    </tr>\n",
       "  </tbody>\n",
       "</table>\n",
       "<p>2375 rows × 3 columns</p>\n",
       "</div>"
      ],
      "text/plain": [
       "type                 Rural  Suburban  Urban\n",
       "date                                       \n",
       "2019-01-01 00:08:16    0.0      0.00  37.91\n",
       "2019-01-01 00:46:46    0.0     47.74   0.00\n",
       "2019-01-01 02:07:24    0.0     24.07   0.00\n",
       "2019-01-01 03:46:50    0.0      0.00   7.57\n",
       "2019-01-01 05:23:21    0.0      0.00  10.75\n",
       "...                    ...       ...    ...\n",
       "2019-05-08 04:20:00    0.0      0.00  21.99\n",
       "2019-05-08 04:39:49    0.0      0.00  18.45\n",
       "2019-05-08 07:29:01    0.0      0.00  18.55\n",
       "2019-05-08 11:38:35    0.0      0.00  19.77\n",
       "2019-05-08 13:10:18    0.0      0.00  18.04\n",
       "\n",
       "[2375 rows x 3 columns]"
      ]
     },
     "execution_count": 35,
     "metadata": {},
     "output_type": "execute_result"
    }
   ],
   "source": [
    "# Create a pivot table with the date as the index, city type as the columns, and fare as the values\n",
    "weekly_fares = df.pivot(index='date', columns='type', values='fare').fillna(0)\n",
    "weekly_fares"
   ]
  },
  {
   "cell_type": "code",
   "execution_count": 43,
   "metadata": {
    "execution": {
     "iopub.execute_input": "2020-11-02T22:37:56.467832Z",
     "iopub.status.busy": "2020-11-02T22:37:56.467562Z",
     "iopub.status.idle": "2020-11-02T22:37:56.487775Z",
     "shell.execute_reply": "2020-11-02T22:37:56.486540Z",
     "shell.execute_reply.started": "2020-11-02T22:37:56.467802Z"
    }
   },
   "outputs": [
    {
     "data": {
      "text/html": [
       "<div>\n",
       "<style scoped>\n",
       "    .dataframe tbody tr th:only-of-type {\n",
       "        vertical-align: middle;\n",
       "    }\n",
       "\n",
       "    .dataframe tbody tr th {\n",
       "        vertical-align: top;\n",
       "    }\n",
       "\n",
       "    .dataframe thead th {\n",
       "        text-align: right;\n",
       "    }\n",
       "</style>\n",
       "<table border=\"1\" class=\"dataframe\">\n",
       "  <thead>\n",
       "    <tr style=\"text-align: right;\">\n",
       "      <th></th>\n",
       "      <th>Rural</th>\n",
       "      <th>Suburban</th>\n",
       "      <th>Urban</th>\n",
       "    </tr>\n",
       "  </thead>\n",
       "  <tbody>\n",
       "    <tr>\n",
       "      <th>2019-01-06</th>\n",
       "      <td>187.92</td>\n",
       "      <td>721.60</td>\n",
       "      <td>1661.68</td>\n",
       "    </tr>\n",
       "    <tr>\n",
       "      <th>2019-01-13</th>\n",
       "      <td>67.65</td>\n",
       "      <td>1105.13</td>\n",
       "      <td>2050.43</td>\n",
       "    </tr>\n",
       "    <tr>\n",
       "      <th>2019-01-20</th>\n",
       "      <td>306.00</td>\n",
       "      <td>1218.20</td>\n",
       "      <td>1939.02</td>\n",
       "    </tr>\n",
       "    <tr>\n",
       "      <th>2019-01-27</th>\n",
       "      <td>179.69</td>\n",
       "      <td>1203.28</td>\n",
       "      <td>2129.51</td>\n",
       "    </tr>\n",
       "    <tr>\n",
       "      <th>2019-02-03</th>\n",
       "      <td>333.08</td>\n",
       "      <td>1042.79</td>\n",
       "      <td>2086.94</td>\n",
       "    </tr>\n",
       "    <tr>\n",
       "      <th>2019-02-10</th>\n",
       "      <td>115.80</td>\n",
       "      <td>974.34</td>\n",
       "      <td>2162.64</td>\n",
       "    </tr>\n",
       "    <tr>\n",
       "      <th>2019-02-17</th>\n",
       "      <td>95.82</td>\n",
       "      <td>1045.50</td>\n",
       "      <td>2235.07</td>\n",
       "    </tr>\n",
       "    <tr>\n",
       "      <th>2019-02-24</th>\n",
       "      <td>419.06</td>\n",
       "      <td>1412.74</td>\n",
       "      <td>2466.29</td>\n",
       "    </tr>\n",
       "    <tr>\n",
       "      <th>2019-03-03</th>\n",
       "      <td>175.14</td>\n",
       "      <td>858.46</td>\n",
       "      <td>2218.20</td>\n",
       "    </tr>\n",
       "    <tr>\n",
       "      <th>2019-03-10</th>\n",
       "      <td>303.94</td>\n",
       "      <td>925.27</td>\n",
       "      <td>2470.93</td>\n",
       "    </tr>\n",
       "    <tr>\n",
       "      <th>2019-03-17</th>\n",
       "      <td>163.39</td>\n",
       "      <td>906.20</td>\n",
       "      <td>2044.42</td>\n",
       "    </tr>\n",
       "    <tr>\n",
       "      <th>2019-03-24</th>\n",
       "      <td>189.76</td>\n",
       "      <td>1122.20</td>\n",
       "      <td>2368.37</td>\n",
       "    </tr>\n",
       "    <tr>\n",
       "      <th>2019-03-31</th>\n",
       "      <td>199.42</td>\n",
       "      <td>1045.06</td>\n",
       "      <td>1942.77</td>\n",
       "    </tr>\n",
       "    <tr>\n",
       "      <th>2019-04-07</th>\n",
       "      <td>501.24</td>\n",
       "      <td>1010.73</td>\n",
       "      <td>2356.70</td>\n",
       "    </tr>\n",
       "    <tr>\n",
       "      <th>2019-04-14</th>\n",
       "      <td>269.79</td>\n",
       "      <td>784.82</td>\n",
       "      <td>2390.72</td>\n",
       "    </tr>\n",
       "    <tr>\n",
       "      <th>2019-04-21</th>\n",
       "      <td>214.14</td>\n",
       "      <td>1149.27</td>\n",
       "      <td>2303.80</td>\n",
       "    </tr>\n",
       "    <tr>\n",
       "      <th>2019-04-28</th>\n",
       "      <td>191.85</td>\n",
       "      <td>1357.75</td>\n",
       "      <td>2238.29</td>\n",
       "    </tr>\n",
       "    <tr>\n",
       "      <th>2019-05-05</th>\n",
       "      <td>257.42</td>\n",
       "      <td>1164.78</td>\n",
       "      <td>2178.57</td>\n",
       "    </tr>\n",
       "  </tbody>\n",
       "</table>\n",
       "</div>"
      ],
      "text/plain": [
       "             Rural  Suburban    Urban\n",
       "2019-01-06  187.92    721.60  1661.68\n",
       "2019-01-13   67.65   1105.13  2050.43\n",
       "2019-01-20  306.00   1218.20  1939.02\n",
       "2019-01-27  179.69   1203.28  2129.51\n",
       "2019-02-03  333.08   1042.79  2086.94\n",
       "2019-02-10  115.80    974.34  2162.64\n",
       "2019-02-17   95.82   1045.50  2235.07\n",
       "2019-02-24  419.06   1412.74  2466.29\n",
       "2019-03-03  175.14    858.46  2218.20\n",
       "2019-03-10  303.94    925.27  2470.93\n",
       "2019-03-17  163.39    906.20  2044.42\n",
       "2019-03-24  189.76   1122.20  2368.37\n",
       "2019-03-31  199.42   1045.06  1942.77\n",
       "2019-04-07  501.24   1010.73  2356.70\n",
       "2019-04-14  269.79    784.82  2390.72\n",
       "2019-04-21  214.14   1149.27  2303.80\n",
       "2019-04-28  191.85   1357.75  2238.29\n",
       "2019-05-05  257.42   1164.78  2178.57"
      ]
     },
     "execution_count": 43,
     "metadata": {},
     "output_type": "execute_result"
    }
   ],
   "source": [
    "# Downsample to weekly frequency\n",
    "weekly_fares = weekly_fares.resample('w').sum()\n",
    "weekly_fares = weekly_fares.iloc[:-1]\n",
    "weekly_fares.index.name = None\n",
    "weekly_fares.columns.name = None\n",
    "weekly_fares"
   ]
  },
  {
   "cell_type": "code",
   "execution_count": 54,
   "metadata": {
    "execution": {
     "iopub.execute_input": "2020-11-02T22:42:14.932658Z",
     "iopub.status.busy": "2020-11-02T22:42:14.932201Z",
     "iopub.status.idle": "2020-11-02T22:42:15.351555Z",
     "shell.execute_reply": "2020-11-02T22:42:15.350374Z",
     "shell.execute_reply.started": "2020-11-02T22:42:14.932611Z"
    }
   },
   "outputs": [
    {
     "data": {
      "image/png": "[encoded data removed]",
      "text/plain": [
       "<Figure size 864x288 with 1 Axes>"
      ]
     },
     "metadata": {
      "needs_background": "light"
     },
     "output_type": "display_data"
    }
   ],
   "source": [
    "# Line plots\n",
    "lineplot = weekly_fares.plot(title='Weekly Total Fares By City Type', figsize=(12, 4),\n",
    "                             color=['lightcoral', 'limegreen', 'skyblue'], grid=True)\n",
    "plt.ylabel('Total Fares ($)', fontsize=12)\n",
    "plt.xlabel('Week', fontsize=12)\n",
    "plt.legend(title='City Type', bbox_to_anchor=(1, 1))\n",
    "plt.show()"
   ]
  },
  {
   "cell_type": "code",
   "execution_count": 55,
   "metadata": {
    "execution": {
     "iopub.execute_input": "2020-11-02T22:42:57.217120Z",
     "iopub.status.busy": "2020-11-02T22:42:57.216863Z",
     "iopub.status.idle": "2020-11-02T22:42:57.424730Z",
     "shell.execute_reply": "2020-11-02T22:42:57.423973Z",
     "shell.execute_reply.started": "2020-11-02T22:42:57.217092Z"
    }
   },
   "outputs": [],
   "source": [
    "lineplot.get_figure().savefig('analysis/lines.png')"
   ]
  },
  {
   "cell_type": "markdown",
   "metadata": {},
   "source": []
  }
 ],
 "metadata": {
  "kernelspec": {
   "display_name": "Python [conda env:PythonData] *",
   "language": "python",
   "name": "conda-env-PythonData-py"
  },
  "language_info": {
   "codemirror_mode": {
    "name": "ipython",
    "version": 3
   },
   "file_extension": ".py",
   "mimetype": "text/x-python",
   "name": "python",
   "nbconvert_exporter": "python",
   "pygments_lexer": "ipython3",
   "version": "3.7.10"
  }
 },
 "nbformat": 4,
 "nbformat_minor": 4
}
